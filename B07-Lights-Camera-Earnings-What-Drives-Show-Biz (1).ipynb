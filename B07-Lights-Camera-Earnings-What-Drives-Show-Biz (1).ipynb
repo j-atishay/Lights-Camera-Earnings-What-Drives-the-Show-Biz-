{
 "cells": [
  {
   "cell_type": "markdown",
   "id": "b59f062e-d17f-4252-831a-1a234c7c72ac",
   "metadata": {},
   "source": [
    "# Lights, Camera, Earnings: What Drives Show Biz?\n"
   ]
  },
  {
   "cell_type": "markdown",
   "id": "ef4e23e5-bd58-4121-99ca-4c3aac5989b7",
   "metadata": {},
   "source": [
    "Team members: Achinthya Sreedhar, Atishay Jain, Divyam Rana, Neha Shastri, Wenlin Zhao, Xingzhu Chen"
   ]
  },
  {
   "cell_type": "markdown",
   "id": "d5a94d3f-bbe4-44bc-a969-955b63f78771",
   "metadata": {},
   "source": [
    "# Introduction"
   ]
  },
  {
   "cell_type": "markdown",
   "id": "acfe2067-3d71-46ac-a751-42ef3b87e95e",
   "metadata": {
    "tags": []
   },
   "source": [
    "## Problem Definition "
   ]
  },
  {
   "cell_type": "markdown",
   "id": "c59ea882-a3ff-47cb-85b0-46d688ef35eb",
   "metadata": {},
   "source": [
    "The project aims to identify key factors contributing to the success of movies and TV series on the IMDb platform, focusing on aspects that drive audience satisfaction and box office performance. With a rapidly growing entertainment industry, understanding patterns in ratings, revenue, genre popularity, release timing, and other elements is critical for decision-making by stakeholders, producers, and marketers. By examining extensive data from IMDb, this project seeks to provide actionable insights that can guide content creation, marketing strategies, and release planning to maximize both audience engagement and profitability.\n",
    "\n",
    "**Objectives**\n",
    "\n",
    "- Analyze Genre Popularity and Ratings: Determine which genres and genre combinations are most frequently produced and most highly rated, identifying trends in audience preferences for diverse or specific genre content.\n",
    "\n",
    "- Examine Release Timing and Revenue Peaks: Uncover patterns in high-grossing movie releases across months and seasons, providing insights for optimal release timing to capitalize on peak audience periods.\n",
    "\n",
    "- Assess Revenue Patterns by Region and Production: Explore the top-performing movies and production companies by revenue, highlighting regional preferences and identifying high-grossing production companies for potential partnership and investment considerations.\n",
    "\n",
    "- Investigate Audience Ratings and Voting Trends: Analyze common rating ranges and voting patterns to understand how ratings impact popularity, with a focus on identifying genres and specific titles with high engagement and audience satisfaction.\n",
    "\n",
    "- Examine Runtime Preferences Across Regions and Genres: Identify runtime trends, preferred ranges, and regional differences, allowing stakeholders to optimize film lengths based on audience expectations.\n",
    "\n",
    "- Provide Strategic Recommendations: Based on the findings, develop evidence-based recommendations to inform stakeholders and production house strategies in terms of genre focus, release schedules, marketing alignment, and runtime optimization."
   ]
  },
  {
   "cell_type": "markdown",
   "id": "d8abe99c-044c-4583-be48-cc8b5914886b",
   "metadata": {},
   "source": [
    "## Business Significance and Motivation\n",
    "\n",
    "The project focuses on exploring what drives audience satisfaction and box office success. By identifying top-performing genres, high-rated movies, and seasonality trends in high-grossing releases, stakeholders in the entertainment industry get access to actionable data that enables them to align and schedule their investment, production, releases, and marketing strategies to maximize audience appeal and profitability.\n",
    "For instance, identifying the most common release months for top-grossing movies offers production houses actionable data on when to release new content to maximize impact. Additionally, exploring the relationship between factors such as movie runtime, genre, revenue, and popularity, can help stakeholders make informed decisions on the types of stories and formats to pursue based on commercial aspirations and audience preferences such as languages, and regions."
   ]
  },
  {
   "cell_type": "markdown",
   "id": "765a30ef-ba23-4522-b4d8-86f3d8e6e73b",
   "metadata": {
    "tags": []
   },
   "source": [
    "## Data source and Entity-Relationship Diagram"
   ]
  },
  {
   "cell_type": "markdown",
   "id": "ff690198-0a7b-4472-b6ab-3d8ff889958a",
   "metadata": {
    "tags": []
   },
   "source": [
    "\n",
    "- IMDb Non-Commercial Datasets (https://datasets.imdbws.com/)\n",
    "- Movie Box Office Revenue Prediction (https://data.mendeley.com/datasets/xv9wtc9gdk/2)\n",
    "\n",
    "<!-- | Table name       | No. rows   | No. columns | Data type         | Description                                                                 |\n",
    "|------------------|------------|-------------|-------------------|-----------------------------------------------------------------------------|\n",
    "| name.basics      | 3,586,804  | 6           | Integer           | Information about people in the entertainment industry                      |\n",
    "| title.akas       | 4,219,099  | 8           | Object, Integer   | Alternative titles for titles in different regions and languages            |\n",
    "| title.basics     | 305,314    | 9           | Object, Float     | Information about titles, including type, primary title, release year, and genre |\n",
    "| title.crew       | 6,733,524  | 3           | Object           | Lists the directors and writers associated with specific titles             |\n",
    "| title.episode    | 7,844,602  | 4           | Object           | Describes the relationship between TV series and their episodes             |\n",
    "| title.principals | 58,929,801 | 6           | Object           | Details the individuals and their roles involved in the TV industry         |\n",
    "| title.ratings    | 1,366,239  | 3           | Object, Integer, Float | Ratings and vote counts for titles                                     | -->\n"
   ]
  },
  {
   "cell_type": "markdown",
   "id": "426d0c88-31d9-4101-81c3-5a569f4c669f",
   "metadata": {},
   "source": [
    "\n",
    "\n",
    "\n",
    "| Table Name            | No. Rows   | No. Columns | Data Types                        | Description                                                                     |\n",
    "|-----------------------|------------|-------------|-----------------------------------|---------------------------------------------------------------------------------|\n",
    "| imdb_5000_movies      | 4,803      | 20          | Integer, Float, String, DateTime  | Information about movie details including language, title, genres, and budget  |\n",
    "| imdb_title_basics     | 11,211,953 | 9           | String                            | Describes the title type, title, and runtime in minutes                        |\n",
    "| imdb_title_episode    | 8,608,344  | 4           | String                            | Information about the season and episode numbers                               |\n",
    "| imdb_title_ratings    | 1,494,604  | 3           | String, Float, Integer            | Information about the average ratings and number of votes                      |\n"
   ]
  },
  {
   "cell_type": "markdown",
   "id": "9bee2ca6-73b4-4b8d-9fa2-c40566cdf172",
   "metadata": {},
   "source": [
    "<img title=\"a title\" alt=\"Alt text\" src=\"Untitled.jpg\">"
   ]
  },
  {
   "cell_type": "markdown",
   "id": "87ae27b9-f82e-47ea-a51c-d9b4c45147c2",
   "metadata": {
    "tags": []
   },
   "source": [
    "## Executive Summary \n",
    "\n",
    "This project provides an in-depth analysis of the IMDB dataset, offering valuable insights into audience preferences, genre performance, and box office revenue trends. Key findings reveal that Comedy, Drama, and Documentary are the most frequently produced genres, while Action, Adventure, and Animation films tend to receive higher ratings and better audience engagement. High-grossing movies are often released in June and December, capitalizing on summer and holiday seasons. Region-specific preferences also emerge, with Telugu films showing high ratings and films like Pirates of the Caribbean performing exceptionally well in the Caribbean.\n",
    "\n",
    "Based on these insights, it is recommended that stakeholders focus on producing films within high-rating genres, schedule major releases during peak months, and tailor content to regional preferences. Additionally, investing in branding and cultivating audience loyalty, as seen with major studios like Marvel, can drive consistent revenue.\n",
    "\n",
    "Looking ahead, future steps include exploring the impact of streaming services on movie revenue, analyzing the relationship between budget and box office success, and further understanding the evolving dynamics of audience behavior across various platforms to adapt production and distribution strategies."
   ]
  },
  {
   "cell_type": "markdown",
   "id": "93aa1339-9bdb-4e05-8ccd-693de2e86f3e",
   "metadata": {},
   "source": [
    "# Tableau Dashboard"
   ]
  },
  {
   "cell_type": "markdown",
   "id": "eaaad68c-4a5e-4b5b-adeb-31ed531d7c4d",
   "metadata": {},
   "source": [
    "<img title=\"a title\" alt=\"Alt text\" src=\"Screenshot 2024-12-03 at 9.26.18 PM.png\">"
   ]
  },
  {
   "cell_type": "markdown",
   "id": "d632b86e-f24f-44e3-b5ac-402f542d5db1",
   "metadata": {},
   "source": [
    "<img title=\"a title\" alt=\"Alt text\" src=\"Screenshot 2024-12-03 at 9.26.28 PM.png\">"
   ]
  },
  {
   "cell_type": "markdown",
   "id": "7b7429d0-913d-41fe-ad7f-f7e4cfbe87d7",
   "metadata": {},
   "source": [
    "Dashboard 1 Link : https://public.tableau.com/app/profile/divyam.rana5237/viz/ExploringtheMovieDataset/MovieDashboard?publish=yes"
   ]
  },
  {
   "cell_type": "markdown",
   "id": "760bc738-e497-43d0-bc3b-4e9b59369c1c",
   "metadata": {},
   "source": [
    "Dashboard 2 Link : https://public.tableau.com/app/profile/divyam.rana5237/viz/ExploringtheData/RevenueDashboard?publish=yes"
   ]
  },
  {
   "cell_type": "markdown",
   "id": "63454d3e-87d9-401a-aef5-3ed23afcd310",
   "metadata": {
    "tags": []
   },
   "source": [
    "# Data Cleaning and Preparation"
   ]
  },
  {
   "cell_type": "code",
   "execution_count": 16,
   "id": "13df961c-9d48-4e35-ae86-8f7625db89c0",
   "metadata": {
    "tags": []
   },
   "outputs": [
    {
     "data": {
      "application/vnd.jupyter.widget-view+json": {
       "model_id": "9563d125ec3640abb4122264d1fbcd6f",
       "version_major": 2,
       "version_minor": 0
      },
      "text/plain": [
       "Query is running:   0%|          |"
      ]
     },
     "metadata": {},
     "output_type": "display_data"
    },
    {
     "data": {
      "text/html": [
       "<div>\n",
       "<style scoped>\n",
       "    .dataframe tbody tr th:only-of-type {\n",
       "        vertical-align: middle;\n",
       "    }\n",
       "\n",
       "    .dataframe tbody tr th {\n",
       "        vertical-align: top;\n",
       "    }\n",
       "\n",
       "    .dataframe thead th {\n",
       "        text-align: right;\n",
       "    }\n",
       "</style>\n",
       "<table border=\"1\" class=\"dataframe\">\n",
       "  <thead>\n",
       "    <tr style=\"text-align: right;\">\n",
       "      <th></th>\n",
       "    </tr>\n",
       "  </thead>\n",
       "  <tbody>\n",
       "  </tbody>\n",
       "</table>\n",
       "</div>"
      ],
      "text/plain": [
       "Empty DataFrame\n",
       "Columns: []\n",
       "Index: []"
      ]
     },
     "execution_count": 16,
     "metadata": {},
     "output_type": "execute_result"
    }
   ],
   "source": [
    "%%bigquery\n",
    "CREATE OR REPLACE VIEW `fall24-ba775-b07.views.imdb_title_basics` as(\n",
    "    SELECT * \n",
    "    FROM `fall24-ba775-b07.data.imdb_title_basics`\n",
    "    WHERE startYear != '\\\\N'\n",
    ")"
   ]
  },
  {
   "cell_type": "code",
   "execution_count": 18,
   "id": "42de7a7c-b462-47e2-b4d1-37d1836fc7e5",
   "metadata": {
    "tags": []
   },
   "outputs": [
    {
     "data": {
      "application/vnd.jupyter.widget-view+json": {
       "model_id": "65f838a2acec46a0beca993a411a37da",
       "version_major": 2,
       "version_minor": 0
      },
      "text/plain": [
       "Query is running:   0%|          |"
      ]
     },
     "metadata": {},
     "output_type": "display_data"
    },
    {
     "data": {
      "text/html": [
       "<div>\n",
       "<style scoped>\n",
       "    .dataframe tbody tr th:only-of-type {\n",
       "        vertical-align: middle;\n",
       "    }\n",
       "\n",
       "    .dataframe tbody tr th {\n",
       "        vertical-align: top;\n",
       "    }\n",
       "\n",
       "    .dataframe thead th {\n",
       "        text-align: right;\n",
       "    }\n",
       "</style>\n",
       "<table border=\"1\" class=\"dataframe\">\n",
       "  <thead>\n",
       "    <tr style=\"text-align: right;\">\n",
       "      <th></th>\n",
       "    </tr>\n",
       "  </thead>\n",
       "  <tbody>\n",
       "  </tbody>\n",
       "</table>\n",
       "</div>"
      ],
      "text/plain": [
       "Empty DataFrame\n",
       "Columns: []\n",
       "Index: []"
      ]
     },
     "execution_count": 18,
     "metadata": {},
     "output_type": "execute_result"
    }
   ],
   "source": [
    "%%bigquery\n",
    "CREATE OR REPLACE VIEW `fall24-ba775-b07.views.clean_titles_basics` AS (\n",
    "    SELECT tconst,titleType, genres, startYear, endYear, runtimeMinutes, primaryTitle\n",
    "    FROM `fall24-ba775-b07.data.imdb_title_basics`\n",
    "    WHERE endYear != '\\\\N' AND startYear != '\\\\N' AND genres IS NOT NULL AND genres <> '\\\\N' and runtimeMinutes <> '\\\\N'\n",
    ");"
   ]
  },
  {
   "cell_type": "code",
   "execution_count": 19,
   "id": "a02aadb4-497d-42b0-be0d-e0872fa588b4",
   "metadata": {
    "tags": []
   },
   "outputs": [
    {
     "data": {
      "application/vnd.jupyter.widget-view+json": {
       "model_id": "26e864214a454dfa8a38b312369df883",
       "version_major": 2,
       "version_minor": 0
      },
      "text/plain": [
       "Query is running:   0%|          |"
      ]
     },
     "metadata": {},
     "output_type": "display_data"
    },
    {
     "data": {
      "text/html": [
       "<div>\n",
       "<style scoped>\n",
       "    .dataframe tbody tr th:only-of-type {\n",
       "        vertical-align: middle;\n",
       "    }\n",
       "\n",
       "    .dataframe tbody tr th {\n",
       "        vertical-align: top;\n",
       "    }\n",
       "\n",
       "    .dataframe thead th {\n",
       "        text-align: right;\n",
       "    }\n",
       "</style>\n",
       "<table border=\"1\" class=\"dataframe\">\n",
       "  <thead>\n",
       "    <tr style=\"text-align: right;\">\n",
       "      <th></th>\n",
       "    </tr>\n",
       "  </thead>\n",
       "  <tbody>\n",
       "  </tbody>\n",
       "</table>\n",
       "</div>"
      ],
      "text/plain": [
       "Empty DataFrame\n",
       "Columns: []\n",
       "Index: []"
      ]
     },
     "execution_count": 19,
     "metadata": {},
     "output_type": "execute_result"
    }
   ],
   "source": [
    "%%bigquery \n",
    "CREATE OR REPLACE VIEW `fall24-ba775-b07.views.clean_imdb_5000_movies` AS (\n",
    "    SELECT genres, original_language, original_title, popularity, production_companies, production_countries, release_date, revenue, runtime, spoken_languages, title, vote_average, vote_count\n",
    "    FROM `fall24-ba775-b07.data.imdb_5000_movies`\n",
    "    WHERE genres IS NOT NULL AND revenue != 0 AND runtime != 0\n",
    ");"
   ]
  },
  {
   "cell_type": "code",
   "execution_count": 20,
   "id": "e331a8cf-5fb0-491f-96a2-6d5963e4f075",
   "metadata": {
    "tags": []
   },
   "outputs": [
    {
     "data": {
      "application/vnd.jupyter.widget-view+json": {
       "model_id": "815d0c2530f84724a4f73c158e63c9f0",
       "version_major": 2,
       "version_minor": 0
      },
      "text/plain": [
       "Query is running:   0%|          |"
      ]
     },
     "metadata": {},
     "output_type": "display_data"
    },
    {
     "data": {
      "text/html": [
       "<div>\n",
       "<style scoped>\n",
       "    .dataframe tbody tr th:only-of-type {\n",
       "        vertical-align: middle;\n",
       "    }\n",
       "\n",
       "    .dataframe tbody tr th {\n",
       "        vertical-align: top;\n",
       "    }\n",
       "\n",
       "    .dataframe thead th {\n",
       "        text-align: right;\n",
       "    }\n",
       "</style>\n",
       "<table border=\"1\" class=\"dataframe\">\n",
       "  <thead>\n",
       "    <tr style=\"text-align: right;\">\n",
       "      <th></th>\n",
       "    </tr>\n",
       "  </thead>\n",
       "  <tbody>\n",
       "  </tbody>\n",
       "</table>\n",
       "</div>"
      ],
      "text/plain": [
       "Empty DataFrame\n",
       "Columns: []\n",
       "Index: []"
      ]
     },
     "execution_count": 20,
     "metadata": {},
     "output_type": "execute_result"
    }
   ],
   "source": [
    "%%bigquery\n",
    "CREATE OR REPLACE VIEW `fall24-ba775-b07.views.clean_imdb_title_ratings` AS (\n",
    "    SELECT tconst,averageRating,numVotes\n",
    "    FROM `fall24-ba775-b07.data.imdb_title_ratings`\n",
    "    WHERE averageRating IS NOT NULL\n",
    "      AND numVotes IS NOT NULL)"
   ]
  },
  {
   "cell_type": "code",
   "execution_count": 21,
   "id": "96deefa9-c51a-4721-98ef-02cb0ab875c3",
   "metadata": {
    "tags": []
   },
   "outputs": [
    {
     "data": {
      "application/vnd.jupyter.widget-view+json": {
       "model_id": "ccd64e7c231d4ca38195c9f5d2798b10",
       "version_major": 2,
       "version_minor": 0
      },
      "text/plain": [
       "Query is running:   0%|          |"
      ]
     },
     "metadata": {},
     "output_type": "display_data"
    },
    {
     "data": {
      "text/html": [
       "<div>\n",
       "<style scoped>\n",
       "    .dataframe tbody tr th:only-of-type {\n",
       "        vertical-align: middle;\n",
       "    }\n",
       "\n",
       "    .dataframe tbody tr th {\n",
       "        vertical-align: top;\n",
       "    }\n",
       "\n",
       "    .dataframe thead th {\n",
       "        text-align: right;\n",
       "    }\n",
       "</style>\n",
       "<table border=\"1\" class=\"dataframe\">\n",
       "  <thead>\n",
       "    <tr style=\"text-align: right;\">\n",
       "      <th></th>\n",
       "    </tr>\n",
       "  </thead>\n",
       "  <tbody>\n",
       "  </tbody>\n",
       "</table>\n",
       "</div>"
      ],
      "text/plain": [
       "Empty DataFrame\n",
       "Columns: []\n",
       "Index: []"
      ]
     },
     "execution_count": 21,
     "metadata": {},
     "output_type": "execute_result"
    }
   ],
   "source": [
    "%%bigquery\n",
    "CREATE OR REPLACE VIEW `fall24-ba775-b07.views.clean_title_episode` as (\n",
    "    SELECT *\n",
    "    FROM `fall24-ba775-b07.data.imdb_title_episode`\n",
    "    WHERE seasonNumber<>'\\\\N'\n",
    ")"
   ]
  },
  {
   "cell_type": "code",
   "execution_count": 22,
   "id": "1d5812e2-9e18-4734-9bf6-0f9904903d98",
   "metadata": {
    "tags": []
   },
   "outputs": [
    {
     "data": {
      "application/vnd.jupyter.widget-view+json": {
       "model_id": "d17ba20e8aeb4931b4eff7d2b37e90a9",
       "version_major": 2,
       "version_minor": 0
      },
      "text/plain": [
       "Query is running:   0%|          |"
      ]
     },
     "metadata": {},
     "output_type": "display_data"
    },
    {
     "data": {
      "text/html": [
       "<div>\n",
       "<style scoped>\n",
       "    .dataframe tbody tr th:only-of-type {\n",
       "        vertical-align: middle;\n",
       "    }\n",
       "\n",
       "    .dataframe tbody tr th {\n",
       "        vertical-align: top;\n",
       "    }\n",
       "\n",
       "    .dataframe thead th {\n",
       "        text-align: right;\n",
       "    }\n",
       "</style>\n",
       "<table border=\"1\" class=\"dataframe\">\n",
       "  <thead>\n",
       "    <tr style=\"text-align: right;\">\n",
       "      <th></th>\n",
       "    </tr>\n",
       "  </thead>\n",
       "  <tbody>\n",
       "  </tbody>\n",
       "</table>\n",
       "</div>"
      ],
      "text/plain": [
       "Empty DataFrame\n",
       "Columns: []\n",
       "Index: []"
      ]
     },
     "execution_count": 22,
     "metadata": {},
     "output_type": "execute_result"
    }
   ],
   "source": [
    "%%bigquery\n",
    "CREATE OR REPLACE VIEW `fall24-ba775-b07.views.clean_titles_with_runtime` AS\n",
    "SELECT \n",
    "    tconst,\n",
    "    genres,\n",
    "    averageRating,\n",
    "    CAST(runtimeMinutes AS INT) AS runtimeMinutes\n",
    "FROM `fall24-ba775-b07.views.clean_titles_basics`\n",
    "INNER JOIN `fall24-ba775-b07.data.imdb_title_ratings` USING (tconst)\n"
   ]
  },
  {
   "cell_type": "code",
   "execution_count": 24,
   "id": "a9690481-ab0f-459e-97df-b189d88bdf0b",
   "metadata": {
    "tags": []
   },
   "outputs": [
    {
     "data": {
      "application/vnd.jupyter.widget-view+json": {
       "model_id": "9b213eda2bf74fdf83a50e3965f024e2",
       "version_major": 2,
       "version_minor": 0
      },
      "text/plain": [
       "Query is running:   0%|          |"
      ]
     },
     "metadata": {},
     "output_type": "display_data"
    },
    {
     "data": {
      "text/html": [
       "<div>\n",
       "<style scoped>\n",
       "    .dataframe tbody tr th:only-of-type {\n",
       "        vertical-align: middle;\n",
       "    }\n",
       "\n",
       "    .dataframe tbody tr th {\n",
       "        vertical-align: top;\n",
       "    }\n",
       "\n",
       "    .dataframe thead th {\n",
       "        text-align: right;\n",
       "    }\n",
       "</style>\n",
       "<table border=\"1\" class=\"dataframe\">\n",
       "  <thead>\n",
       "    <tr style=\"text-align: right;\">\n",
       "      <th></th>\n",
       "    </tr>\n",
       "  </thead>\n",
       "  <tbody>\n",
       "  </tbody>\n",
       "</table>\n",
       "</div>"
      ],
      "text/plain": [
       "Empty DataFrame\n",
       "Columns: []\n",
       "Index: []"
      ]
     },
     "execution_count": 24,
     "metadata": {},
     "output_type": "execute_result"
    }
   ],
   "source": [
    "%%bigquery\n",
    "CREATE OR REPLACE VIEW `fall24-ba775-b07.views.clean_titles_with_years` AS\n",
    "SELECT \n",
    "    tb.tconst,\n",
    "    tb.primaryTitle,\n",
    "    CAST(tb.startYear AS INT64) AS startYear,\n",
    "    CAST(tb.endYear AS INT64) AS endYear,\n",
    "    tb.runtimeMinutes,\n",
    "    tr.averageRating\n",
    "FROM `fall24-ba775-b07.views.clean_titles_basics` AS tb\n",
    "JOIN `fall24-ba775-b07.data.imdb_title_ratings` AS tr ON tb.tconst = tr.tconst\n",
    "WHERE tb.titleType = 'tvEpisode' OR tb.titleType = 'tvSeries'\n"
   ]
  },
  {
   "cell_type": "code",
   "execution_count": 25,
   "id": "ba23392e-c048-4580-a04c-9a93419a55a9",
   "metadata": {
    "tags": []
   },
   "outputs": [
    {
     "data": {
      "application/vnd.jupyter.widget-view+json": {
       "model_id": "60831f234fd9459ca23d5c673e397b24",
       "version_major": 2,
       "version_minor": 0
      },
      "text/plain": [
       "Query is running:   0%|          |"
      ]
     },
     "metadata": {},
     "output_type": "display_data"
    },
    {
     "data": {
      "text/html": [
       "<div>\n",
       "<style scoped>\n",
       "    .dataframe tbody tr th:only-of-type {\n",
       "        vertical-align: middle;\n",
       "    }\n",
       "\n",
       "    .dataframe tbody tr th {\n",
       "        vertical-align: top;\n",
       "    }\n",
       "\n",
       "    .dataframe thead th {\n",
       "        text-align: right;\n",
       "    }\n",
       "</style>\n",
       "<table border=\"1\" class=\"dataframe\">\n",
       "  <thead>\n",
       "    <tr style=\"text-align: right;\">\n",
       "      <th></th>\n",
       "    </tr>\n",
       "  </thead>\n",
       "  <tbody>\n",
       "  </tbody>\n",
       "</table>\n",
       "</div>"
      ],
      "text/plain": [
       "Empty DataFrame\n",
       "Columns: []\n",
       "Index: []"
      ]
     },
     "execution_count": 25,
     "metadata": {},
     "output_type": "execute_result"
    }
   ],
   "source": [
    "%%bigquery\n",
    "CREATE OR REPLACE VIEW `fall24-ba775-b07.views.clean_title_episodes` AS\n",
    "SELECT \n",
    "    te.tconst,\n",
    "    te.seasonNumber,\n",
    "    tb.primaryTitle,\n",
    "    tr.averageRating,\n",
    "    tr.numVotes\n",
    "FROM `fall24-ba775-b07.data.imdb_title_episode` AS te\n",
    "JOIN `fall24-ba775-b07.data.imdb_title_basics` AS tb ON te.tconst = tb.tconst\n",
    "JOIN `fall24-ba775-b07.data.imdb_title_ratings` AS tr ON tb.tconst = tr.tconst;\n"
   ]
  },
  {
   "cell_type": "code",
   "execution_count": 2,
   "id": "2f14bf83-8d2c-4b1f-ad08-6affedb639bd",
   "metadata": {
    "tags": []
   },
   "outputs": [
    {
     "data": {
      "application/vnd.jupyter.widget-view+json": {
       "model_id": "126fe00e2b72483b96f411081f5e24e0",
       "version_major": 2,
       "version_minor": 0
      },
      "text/plain": [
       "Query is running:   0%|          |"
      ]
     },
     "metadata": {},
     "output_type": "display_data"
    },
    {
     "data": {
      "text/html": [
       "<div>\n",
       "<style scoped>\n",
       "    .dataframe tbody tr th:only-of-type {\n",
       "        vertical-align: middle;\n",
       "    }\n",
       "\n",
       "    .dataframe tbody tr th {\n",
       "        vertical-align: top;\n",
       "    }\n",
       "\n",
       "    .dataframe thead th {\n",
       "        text-align: right;\n",
       "    }\n",
       "</style>\n",
       "<table border=\"1\" class=\"dataframe\">\n",
       "  <thead>\n",
       "    <tr style=\"text-align: right;\">\n",
       "      <th></th>\n",
       "    </tr>\n",
       "  </thead>\n",
       "  <tbody>\n",
       "  </tbody>\n",
       "</table>\n",
       "</div>"
      ],
      "text/plain": [
       "Empty DataFrame\n",
       "Columns: []\n",
       "Index: []"
      ]
     },
     "execution_count": 2,
     "metadata": {},
     "output_type": "execute_result"
    }
   ],
   "source": [
    "%%bigquery\n",
    "CREATE OR REPLACE VIEW `fall24-ba775-b07.views.clean_movies_with_language` AS\n",
    "SELECT \n",
    "    m.original_title,\n",
    "    m.original_language,\n",
    "    CASE\n",
    "        WHEN m.original_language = 'de' THEN 'Germany'\n",
    "        WHEN m.original_language = 'id' THEN 'Indonesian'\n",
    "        WHEN m.original_language = 'he' THEN 'Hebrew'\n",
    "        WHEN m.original_language = 'zh' THEN 'Chinese'\n",
    "        WHEN m.original_language = 'it' THEN 'Italian'\n",
    "        WHEN m.original_language = 'nl' THEN 'Dutch'\n",
    "        WHEN m.original_language = 'da' THEN 'Danish'\n",
    "        WHEN m.original_language = 'es' THEN 'Spanish'\n",
    "        WHEN m.original_language = 'pt' THEN 'Portuguese'\n",
    "        WHEN m.original_language = 'af' THEN 'Afrikaans'\n",
    "        WHEN m.original_language = 'en' THEN 'English'\n",
    "        ELSE 'Others' \n",
    "    END AS language_name\n",
    "FROM \n",
    "    fall24-ba775-b07.views.clean_imdb_5000_movies AS m\n"
   ]
  },
  {
   "cell_type": "code",
   "execution_count": 27,
   "id": "af97ef9a-f8d2-4b1d-abd6-a0e12f2dd30a",
   "metadata": {
    "tags": []
   },
   "outputs": [
    {
     "data": {
      "application/vnd.jupyter.widget-view+json": {
       "model_id": "bd41a91146e64128b844722e76927091",
       "version_major": 2,
       "version_minor": 0
      },
      "text/plain": [
       "Query is running:   0%|          |"
      ]
     },
     "metadata": {},
     "output_type": "display_data"
    },
    {
     "data": {
      "text/html": [
       "<div>\n",
       "<style scoped>\n",
       "    .dataframe tbody tr th:only-of-type {\n",
       "        vertical-align: middle;\n",
       "    }\n",
       "\n",
       "    .dataframe tbody tr th {\n",
       "        vertical-align: top;\n",
       "    }\n",
       "\n",
       "    .dataframe thead th {\n",
       "        text-align: right;\n",
       "    }\n",
       "</style>\n",
       "<table border=\"1\" class=\"dataframe\">\n",
       "  <thead>\n",
       "    <tr style=\"text-align: right;\">\n",
       "      <th></th>\n",
       "    </tr>\n",
       "  </thead>\n",
       "  <tbody>\n",
       "  </tbody>\n",
       "</table>\n",
       "</div>"
      ],
      "text/plain": [
       "Empty DataFrame\n",
       "Columns: []\n",
       "Index: []"
      ]
     },
     "execution_count": 27,
     "metadata": {},
     "output_type": "execute_result"
    }
   ],
   "source": [
    "%%bigquery\n",
    "CREATE OR REPLACE VIEW `fall24-ba775-b07.views.clean_movies_with_ratings` AS\n",
    "SELECT \n",
    "    tb.tconst,\n",
    "    tb.primaryTitle,\n",
    "    tr.averageRating,\n",
    "    tr.numVotes\n",
    "FROM \n",
    "    `fall24-ba775-b07.data.imdb_title_basics` AS tb\n",
    "JOIN \n",
    "    `fall24-ba775-b07.data.imdb_title_ratings` AS tr ON tb.tconst = tr.tconst\n",
    "WHERE \n",
    "    tb.titleType = 'movie' AND tr.numVotes > 10000;\n"
   ]
  },
  {
   "cell_type": "code",
   "execution_count": 28,
   "id": "b8de5e72-5824-4112-b0f1-ebb6c1b61fcf",
   "metadata": {
    "tags": []
   },
   "outputs": [
    {
     "data": {
      "application/vnd.jupyter.widget-view+json": {
       "model_id": "14fc47221d4244bc82421f8bbd3f6394",
       "version_major": 2,
       "version_minor": 0
      },
      "text/plain": [
       "Query is running:   0%|          |"
      ]
     },
     "metadata": {},
     "output_type": "display_data"
    },
    {
     "data": {
      "text/html": [
       "<div>\n",
       "<style scoped>\n",
       "    .dataframe tbody tr th:only-of-type {\n",
       "        vertical-align: middle;\n",
       "    }\n",
       "\n",
       "    .dataframe tbody tr th {\n",
       "        vertical-align: top;\n",
       "    }\n",
       "\n",
       "    .dataframe thead th {\n",
       "        text-align: right;\n",
       "    }\n",
       "</style>\n",
       "<table border=\"1\" class=\"dataframe\">\n",
       "  <thead>\n",
       "    <tr style=\"text-align: right;\">\n",
       "      <th></th>\n",
       "    </tr>\n",
       "  </thead>\n",
       "  <tbody>\n",
       "  </tbody>\n",
       "</table>\n",
       "</div>"
      ],
      "text/plain": [
       "Empty DataFrame\n",
       "Columns: []\n",
       "Index: []"
      ]
     },
     "execution_count": 28,
     "metadata": {},
     "output_type": "execute_result"
    }
   ],
   "source": [
    "%%bigquery\n",
    "CREATE OR REPLACE VIEW `fall24-ba775-b07.views.classified_movies_revenue` AS\n",
    "SELECT \n",
    "    *,\n",
    "    CASE \n",
    "        WHEN revenue >= 140165095.5 THEN 'High Revenue'\n",
    "        WHEN revenue <= 15352895.25 THEN 'Low Revenue'\n",
    "        ELSE 'Medium Revenue'\n",
    "    END AS revenue_range\n",
    "FROM \n",
    "    `fall24-ba775-b07.data.imdb_5000_movies`\n",
    "WHERE \n",
    "    revenue IS NOT NULL;\n"
   ]
  },
  {
   "cell_type": "code",
   "execution_count": 29,
   "id": "42cb910b-5e1e-45df-9164-eb45cdc83fca",
   "metadata": {
    "tags": []
   },
   "outputs": [
    {
     "data": {
      "application/vnd.jupyter.widget-view+json": {
       "model_id": "79d987caa14643f3acaa1ff15355f757",
       "version_major": 2,
       "version_minor": 0
      },
      "text/plain": [
       "Query is running:   0%|          |"
      ]
     },
     "metadata": {},
     "output_type": "display_data"
    },
    {
     "data": {
      "text/html": [
       "<div>\n",
       "<style scoped>\n",
       "    .dataframe tbody tr th:only-of-type {\n",
       "        vertical-align: middle;\n",
       "    }\n",
       "\n",
       "    .dataframe tbody tr th {\n",
       "        vertical-align: top;\n",
       "    }\n",
       "\n",
       "    .dataframe thead th {\n",
       "        text-align: right;\n",
       "    }\n",
       "</style>\n",
       "<table border=\"1\" class=\"dataframe\">\n",
       "  <thead>\n",
       "    <tr style=\"text-align: right;\">\n",
       "      <th></th>\n",
       "    </tr>\n",
       "  </thead>\n",
       "  <tbody>\n",
       "  </tbody>\n",
       "</table>\n",
       "</div>"
      ],
      "text/plain": [
       "Empty DataFrame\n",
       "Columns: []\n",
       "Index: []"
      ]
     },
     "execution_count": 29,
     "metadata": {},
     "output_type": "execute_result"
    }
   ],
   "source": [
    "%%bigquery\n",
    "CREATE OR REPLACE VIEW `fall24-ba775-b07.views.movies_with_decade_rating` AS\n",
    "SELECT \n",
    "    CAST(FLOOR(CAST(tb.startYear AS INT64) / 10) * 10 AS INT64) AS decade,\n",
    "    tr.averageRating\n",
    "FROM \n",
    "    `fall24-ba775-b07.views.imdb_title_basics` AS tb\n",
    "JOIN \n",
    "    `fall24-ba775-b07.data.imdb_title_ratings` AS tr ON tb.tconst = tr.tconst\n",
    "WHERE \n",
    "    tb.titleType = 'movie';\n"
   ]
  },
  {
   "cell_type": "code",
   "execution_count": 30,
   "id": "7e404427-491e-477f-a316-80c5c15ca1ca",
   "metadata": {
    "tags": []
   },
   "outputs": [
    {
     "data": {
      "application/vnd.jupyter.widget-view+json": {
       "model_id": "304bc5fc6f094253ae77ef82e25f4eb4",
       "version_major": 2,
       "version_minor": 0
      },
      "text/plain": [
       "Query is running:   0%|          |"
      ]
     },
     "metadata": {},
     "output_type": "display_data"
    },
    {
     "data": {
      "text/html": [
       "<div>\n",
       "<style scoped>\n",
       "    .dataframe tbody tr th:only-of-type {\n",
       "        vertical-align: middle;\n",
       "    }\n",
       "\n",
       "    .dataframe tbody tr th {\n",
       "        vertical-align: top;\n",
       "    }\n",
       "\n",
       "    .dataframe thead th {\n",
       "        text-align: right;\n",
       "    }\n",
       "</style>\n",
       "<table border=\"1\" class=\"dataframe\">\n",
       "  <thead>\n",
       "    <tr style=\"text-align: right;\">\n",
       "      <th></th>\n",
       "    </tr>\n",
       "  </thead>\n",
       "  <tbody>\n",
       "  </tbody>\n",
       "</table>\n",
       "</div>"
      ],
      "text/plain": [
       "Empty DataFrame\n",
       "Columns: []\n",
       "Index: []"
      ]
     },
     "execution_count": 30,
     "metadata": {},
     "output_type": "execute_result"
    }
   ],
   "source": [
    "%%bigquery\n",
    "CREATE OR REPLACE VIEW `fall24-ba775-b07.views.classified_movies_runtime` AS\n",
    "SELECT \n",
    "    *,\n",
    "    CASE \n",
    "        WHEN runtime >= 120 THEN 'Long (> 2 hours)'\n",
    "        WHEN runtime BETWEEN 90 AND 119 THEN 'Normal (1.5 - 2 hours)'\n",
    "        WHEN runtime BETWEEN 60 AND 89 THEN 'Short (1 - 1.5 hours)'\n",
    "        ELSE 'Very Short (< 1 hour)'\n",
    "    END AS runtime_range\n",
    "FROM \n",
    "    `fall24-ba775-b07.data.imdb_5000_movies`\n",
    "WHERE \n",
    "    runtime IS NOT NULL;\n"
   ]
  },
  {
   "cell_type": "code",
   "execution_count": 31,
   "id": "b0507051-bfc9-4c1c-ab5c-ed63431ce94d",
   "metadata": {
    "tags": []
   },
   "outputs": [
    {
     "data": {
      "application/vnd.jupyter.widget-view+json": {
       "model_id": "2496d7c7407545ccb0b16e90a1684d63",
       "version_major": 2,
       "version_minor": 0
      },
      "text/plain": [
       "Query is running:   0%|          |"
      ]
     },
     "metadata": {},
     "output_type": "display_data"
    },
    {
     "data": {
      "text/html": [
       "<div>\n",
       "<style scoped>\n",
       "    .dataframe tbody tr th:only-of-type {\n",
       "        vertical-align: middle;\n",
       "    }\n",
       "\n",
       "    .dataframe tbody tr th {\n",
       "        vertical-align: top;\n",
       "    }\n",
       "\n",
       "    .dataframe thead th {\n",
       "        text-align: right;\n",
       "    }\n",
       "</style>\n",
       "<table border=\"1\" class=\"dataframe\">\n",
       "  <thead>\n",
       "    <tr style=\"text-align: right;\">\n",
       "      <th></th>\n",
       "    </tr>\n",
       "  </thead>\n",
       "  <tbody>\n",
       "  </tbody>\n",
       "</table>\n",
       "</div>"
      ],
      "text/plain": [
       "Empty DataFrame\n",
       "Columns: []\n",
       "Index: []"
      ]
     },
     "execution_count": 31,
     "metadata": {},
     "output_type": "execute_result"
    }
   ],
   "source": [
    "%%bigquery\n",
    "CREATE OR REPLACE VIEW `fall24-ba775-b07.views.movies_from_2000s` AS\n",
    "SELECT \n",
    "    basics_table.primaryTitle AS movie_title,\n",
    "    CAST(basics_table.startYear AS INT64) AS release_year,\n",
    "    ratings_table.numVotes AS vote_count\n",
    "FROM \n",
    "    `fall24-ba775-b07.data.imdb_title_ratings` AS ratings_table\n",
    "JOIN \n",
    "    `fall24-ba775-b07.data.imdb_title_basics` AS basics_table \n",
    "ON \n",
    "    ratings_table.tconst = basics_table.tconst\n",
    "WHERE \n",
    "    basics_table.titleType = 'movie'\n",
    "    AND SAFE_CAST(basics_table.startYear AS INT64) BETWEEN 2000 AND 2009;\n"
   ]
  },
  {
   "cell_type": "markdown",
   "id": "78e88869-d5c4-4517-af4d-dc2caad15acb",
   "metadata": {},
   "source": [
    "**Data Cleaning Summary**"
   ]
  },
  {
   "cell_type": "markdown",
   "id": "01b3daf1-84aa-4691-aa86-81f7bb09cff4",
   "metadata": {},
   "source": [
    "The data cleaning process focused on ensuring data quality and consistency across the different datasets we use. Records with missing or invalid values in key fields such as startYear, endYear, genres, runtimeMinutes, and seasonNumber were removed. Essential datasets like title basics, ratings, and episodes were merged to enrich the data, while numeric fields such as runtimeMinutes, startYear, and endYear were converted to appropriate formats for reliability. Additionally, original_language codes were mapped to readable language names to enhance interpretability. These steps addressed the fundamental issues in our dataset.\n",
    "\n",
    "To enable better analysis, we categorized and segmented the data. Movies were classified into runtime and revenue thresholds, while records were grouped by release decades to identify trends over time. Filters were applied to include only relevant data, such as movies with over 10,000 votes and episodes with valid ratings. These data cleaning steps ensure that our dataset is well-structured and ready to generate insights. "
   ]
  },
  {
   "cell_type": "markdown",
   "id": "744e6e7d-d8e9-4e32-baf0-aa6bacd77477",
   "metadata": {
    "tags": []
   },
   "source": [
    "# EDA\n"
   ]
  },
  {
   "cell_type": "markdown",
   "id": "1d1687c2-5bd4-46c0-9ef3-54ac55cac4e7",
   "metadata": {},
   "source": [
    "Lets explore the types of title's we have in our dataset"
   ]
  },
  {
   "cell_type": "code",
   "execution_count": 2,
   "id": "b4750d32-1d33-4261-b0be-1b8638aeb593",
   "metadata": {
    "tags": []
   },
   "outputs": [
    {
     "data": {
      "application/vnd.jupyter.widget-view+json": {
       "model_id": "e8bd20de7e79404e86229b57f2ae4ced",
       "version_major": 2,
       "version_minor": 0
      },
      "text/plain": [
       "Query is running:   0%|          |"
      ]
     },
     "metadata": {},
     "output_type": "display_data"
    },
    {
     "data": {
      "application/vnd.jupyter.widget-view+json": {
       "model_id": "fb03be62de804ffb9f015fa28e678b20",
       "version_major": 2,
       "version_minor": 0
      },
      "text/plain": [
       "Downloading:   0%|          |"
      ]
     },
     "metadata": {},
     "output_type": "display_data"
    },
    {
     "data": {
      "text/html": [
       "<div>\n",
       "<style scoped>\n",
       "    .dataframe tbody tr th:only-of-type {\n",
       "        vertical-align: middle;\n",
       "    }\n",
       "\n",
       "    .dataframe tbody tr th {\n",
       "        vertical-align: top;\n",
       "    }\n",
       "\n",
       "    .dataframe thead th {\n",
       "        text-align: right;\n",
       "    }\n",
       "</style>\n",
       "<table border=\"1\" class=\"dataframe\">\n",
       "  <thead>\n",
       "    <tr style=\"text-align: right;\">\n",
       "      <th></th>\n",
       "      <th>titleType</th>\n",
       "    </tr>\n",
       "  </thead>\n",
       "  <tbody>\n",
       "    <tr>\n",
       "      <th>0</th>\n",
       "      <td>video</td>\n",
       "    </tr>\n",
       "    <tr>\n",
       "      <th>1</th>\n",
       "      <td>tvShort</td>\n",
       "    </tr>\n",
       "    <tr>\n",
       "      <th>2</th>\n",
       "      <td>tvEpisode</td>\n",
       "    </tr>\n",
       "    <tr>\n",
       "      <th>3</th>\n",
       "      <td>movie</td>\n",
       "    </tr>\n",
       "    <tr>\n",
       "      <th>4</th>\n",
       "      <td>tvSeries</td>\n",
       "    </tr>\n",
       "    <tr>\n",
       "      <th>5</th>\n",
       "      <td>tvMovie</td>\n",
       "    </tr>\n",
       "    <tr>\n",
       "      <th>6</th>\n",
       "      <td>tvMiniSeries</td>\n",
       "    </tr>\n",
       "    <tr>\n",
       "      <th>7</th>\n",
       "      <td>videoGame</td>\n",
       "    </tr>\n",
       "    <tr>\n",
       "      <th>8</th>\n",
       "      <td>tvSpecial</td>\n",
       "    </tr>\n",
       "    <tr>\n",
       "      <th>9</th>\n",
       "      <td>short</td>\n",
       "    </tr>\n",
       "    <tr>\n",
       "      <th>10</th>\n",
       "      <td>tvPilot</td>\n",
       "    </tr>\n",
       "  </tbody>\n",
       "</table>\n",
       "</div>"
      ],
      "text/plain": [
       "       titleType\n",
       "0          video\n",
       "1        tvShort\n",
       "2      tvEpisode\n",
       "3          movie\n",
       "4       tvSeries\n",
       "5        tvMovie\n",
       "6   tvMiniSeries\n",
       "7      videoGame\n",
       "8      tvSpecial\n",
       "9          short\n",
       "10       tvPilot"
      ]
     },
     "execution_count": 2,
     "metadata": {},
     "output_type": "execute_result"
    }
   ],
   "source": [
    "%%bigquery\n",
    "SELECT DISTINCT titleType\n",
    "FROM `fall24-ba775-b07.data.imdb_title_basics`"
   ]
  },
  {
   "cell_type": "markdown",
   "id": "83dbb7b1-4f7e-4726-9f02-e91f2fd92d72",
   "metadata": {},
   "source": [
    "We notice that there 11 types namely - video, tvShort, tvEpisode, movie, tvSeries, tvMovie, tvMiniSeries, videoGame, tvSpecial, short, tvPilot"
   ]
  },
  {
   "cell_type": "markdown",
   "id": "9f99f50e-75f5-4889-8a5f-8d4195501e80",
   "metadata": {},
   "source": [
    "Let's look at the most common movie genres in the dataset. We have sorted them in descending order and we can see Comedy, Documentary, Drama in the top three according to our dataset."
   ]
  },
  {
   "cell_type": "code",
   "execution_count": 3,
   "id": "b32d047e-929e-441e-bbad-8bd4342f6657",
   "metadata": {
    "tags": []
   },
   "outputs": [
    {
     "data": {
      "application/vnd.jupyter.widget-view+json": {
       "model_id": "81ed26f9828e425f9c6f5e6dbc32f03c",
       "version_major": 2,
       "version_minor": 0
      },
      "text/plain": [
       "Query is running:   0%|          |"
      ]
     },
     "metadata": {},
     "output_type": "display_data"
    },
    {
     "data": {
      "application/vnd.jupyter.widget-view+json": {
       "model_id": "5951b3e0317a4f68b8553416f175b809",
       "version_major": 2,
       "version_minor": 0
      },
      "text/plain": [
       "Downloading:   0%|          |"
      ]
     },
     "metadata": {},
     "output_type": "display_data"
    },
    {
     "data": {
      "text/html": [
       "<div>\n",
       "<style scoped>\n",
       "    .dataframe tbody tr th:only-of-type {\n",
       "        vertical-align: middle;\n",
       "    }\n",
       "\n",
       "    .dataframe tbody tr th {\n",
       "        vertical-align: top;\n",
       "    }\n",
       "\n",
       "    .dataframe thead th {\n",
       "        text-align: right;\n",
       "    }\n",
       "</style>\n",
       "<table border=\"1\" class=\"dataframe\">\n",
       "  <thead>\n",
       "    <tr style=\"text-align: right;\">\n",
       "      <th></th>\n",
       "      <th>genres</th>\n",
       "      <th>Count</th>\n",
       "    </tr>\n",
       "  </thead>\n",
       "  <tbody>\n",
       "    <tr>\n",
       "      <th>0</th>\n",
       "      <td>Comedy</td>\n",
       "      <td>6774</td>\n",
       "    </tr>\n",
       "    <tr>\n",
       "      <th>1</th>\n",
       "      <td>Documentary</td>\n",
       "      <td>6465</td>\n",
       "    </tr>\n",
       "    <tr>\n",
       "      <th>2</th>\n",
       "      <td>Drama</td>\n",
       "      <td>5792</td>\n",
       "    </tr>\n",
       "    <tr>\n",
       "      <th>3</th>\n",
       "      <td>Talk-Show</td>\n",
       "      <td>2354</td>\n",
       "    </tr>\n",
       "    <tr>\n",
       "      <th>4</th>\n",
       "      <td>Reality-TV</td>\n",
       "      <td>1814</td>\n",
       "    </tr>\n",
       "  </tbody>\n",
       "</table>\n",
       "</div>"
      ],
      "text/plain": [
       "        genres  Count\n",
       "0       Comedy   6774\n",
       "1  Documentary   6465\n",
       "2        Drama   5792\n",
       "3    Talk-Show   2354\n",
       "4   Reality-TV   1814"
      ]
     },
     "execution_count": 3,
     "metadata": {},
     "output_type": "execute_result"
    }
   ],
   "source": [
    "%%bigquery\n",
    "SELECT \n",
    "    genres, \n",
    "    COUNT(1) as Count \n",
    "FROM fall24-ba775-b07.views.clean_titles_basics\n",
    "GROUP BY 1\n",
    "ORDER BY 2 DESC\n",
    "Limit 5"
   ]
  },
  {
   "cell_type": "markdown",
   "id": "363621bd-4f59-46a6-a96b-b4a48daebb3b",
   "metadata": {},
   "source": [
    "The result shows the distribution of movie genres within the dataset. It reveals that comedy, documentary, and drama are the most popular genres. Additionally, genre combinations, such as \"Drama, Romance\" and \"Comedy, Drama,\" are also common, which may reflect an audience preference for diverse content."
   ]
  },
  {
   "cell_type": "markdown",
   "id": "e5c03e40-a60f-48d2-a914-a77c5be218ee",
   "metadata": {},
   "source": [
    "Now let's look at the most common average ratings in the dataset"
   ]
  },
  {
   "cell_type": "markdown",
   "id": "1c2ae86a-7ad5-4ee5-80fb-41268525e383",
   "metadata": {},
   "source": [
    "The dataset reveals that movie ratings are heavily concentrated in the 6.8 to 8.0 range, with 7.2 being the most frequent rating, appearing in 56,447 movies. Other common ratings include 7.4, 7.6, and 7.8, reflecting a trend where the majority of movies achieve mid-to-high ratings.\n",
    "This suggests that audiences and critics generally perceive most movies as \"above average\" to \"good,\" indicating that achieving ratings in this range is a benchmark for market competitiveness. Production and marketing teams should aim for factors that drive ratings above 7.0 to improve appeal and align with audience expectations."
   ]
  },
  {
   "cell_type": "code",
   "execution_count": 4,
   "id": "dfb70057-6dea-4e6e-a5f7-d37656514e42",
   "metadata": {
    "tags": []
   },
   "outputs": [
    {
     "data": {
      "application/vnd.jupyter.widget-view+json": {
       "model_id": "4dbb260701dc42359cf4e52170f4d9be",
       "version_major": 2,
       "version_minor": 0
      },
      "text/plain": [
       "Query is running:   0%|          |"
      ]
     },
     "metadata": {},
     "output_type": "display_data"
    },
    {
     "data": {
      "application/vnd.jupyter.widget-view+json": {
       "model_id": "ac0c123a472844688d39462e6571dc09",
       "version_major": 2,
       "version_minor": 0
      },
      "text/plain": [
       "Downloading:   0%|          |"
      ]
     },
     "metadata": {},
     "output_type": "display_data"
    },
    {
     "data": {
      "text/html": [
       "<div>\n",
       "<style scoped>\n",
       "    .dataframe tbody tr th:only-of-type {\n",
       "        vertical-align: middle;\n",
       "    }\n",
       "\n",
       "    .dataframe tbody tr th {\n",
       "        vertical-align: top;\n",
       "    }\n",
       "\n",
       "    .dataframe thead th {\n",
       "        text-align: right;\n",
       "    }\n",
       "</style>\n",
       "<table border=\"1\" class=\"dataframe\">\n",
       "  <thead>\n",
       "    <tr style=\"text-align: right;\">\n",
       "      <th></th>\n",
       "      <th>averageRating</th>\n",
       "      <th>Num_Titles</th>\n",
       "    </tr>\n",
       "  </thead>\n",
       "  <tbody>\n",
       "    <tr>\n",
       "      <th>0</th>\n",
       "      <td>7.2</td>\n",
       "      <td>56447</td>\n",
       "    </tr>\n",
       "    <tr>\n",
       "      <th>1</th>\n",
       "      <td>7.4</td>\n",
       "      <td>53763</td>\n",
       "    </tr>\n",
       "    <tr>\n",
       "      <th>2</th>\n",
       "      <td>7.6</td>\n",
       "      <td>53588</td>\n",
       "    </tr>\n",
       "    <tr>\n",
       "      <th>3</th>\n",
       "      <td>7.8</td>\n",
       "      <td>52048</td>\n",
       "    </tr>\n",
       "    <tr>\n",
       "      <th>4</th>\n",
       "      <td>7.0</td>\n",
       "      <td>51312</td>\n",
       "    </tr>\n",
       "  </tbody>\n",
       "</table>\n",
       "</div>"
      ],
      "text/plain": [
       "   averageRating  Num_Titles\n",
       "0            7.2       56447\n",
       "1            7.4       53763\n",
       "2            7.6       53588\n",
       "3            7.8       52048\n",
       "4            7.0       51312"
      ]
     },
     "execution_count": 4,
     "metadata": {},
     "output_type": "execute_result"
    }
   ],
   "source": [
    "%%bigquery\n",
    "SELECT \n",
    "    averageRating, \n",
    "    COUNT(*) as Num_Titles\n",
    "FROM fall24-ba775-b07.data.imdb_title_ratings\n",
    "GROUP BY 1\n",
    "ORDER BY 2 DESC\n",
    "Limit 5"
   ]
  },
  {
   "cell_type": "markdown",
   "id": "5fe3dcfc-09ee-4f65-8e5f-c7c67d63ca44",
   "metadata": {},
   "source": [
    "Now lets look at the mean, min, max, standard deviation of the number of votes according to our dataset. We observed an average of 1,029 votes, with a minimum of 5 votes and a maximum of 2,957,891 votes. The standard deviation is 17,759. Moving forward, we plan to use this mean value as a filter to ensure the validity of our findings."
   ]
  },
  {
   "cell_type": "code",
   "execution_count": 49,
   "id": "5f8703f2-f1b9-4072-ba89-8a73182fdeff",
   "metadata": {
    "tags": []
   },
   "outputs": [
    {
     "data": {
      "application/vnd.jupyter.widget-view+json": {
       "model_id": "c99f27e7020a4313abf9bb11e28d7000",
       "version_major": 2,
       "version_minor": 0
      },
      "text/plain": [
       "Query is running:   0%|          |"
      ]
     },
     "metadata": {},
     "output_type": "display_data"
    },
    {
     "data": {
      "application/vnd.jupyter.widget-view+json": {
       "model_id": "f1dd0d97fca24f6799a676084b790370",
       "version_major": 2,
       "version_minor": 0
      },
      "text/plain": [
       "Downloading:   0%|          |"
      ]
     },
     "metadata": {},
     "output_type": "display_data"
    },
    {
     "data": {
      "text/html": [
       "<div>\n",
       "<style scoped>\n",
       "    .dataframe tbody tr th:only-of-type {\n",
       "        vertical-align: middle;\n",
       "    }\n",
       "\n",
       "    .dataframe tbody tr th {\n",
       "        vertical-align: top;\n",
       "    }\n",
       "\n",
       "    .dataframe thead th {\n",
       "        text-align: right;\n",
       "    }\n",
       "</style>\n",
       "<table border=\"1\" class=\"dataframe\">\n",
       "  <thead>\n",
       "    <tr style=\"text-align: right;\">\n",
       "      <th></th>\n",
       "      <th>mean</th>\n",
       "      <th>min</th>\n",
       "      <th>max</th>\n",
       "      <th>standard_deviation</th>\n",
       "    </tr>\n",
       "  </thead>\n",
       "  <tbody>\n",
       "    <tr>\n",
       "      <th>0</th>\n",
       "      <td>1029.0</td>\n",
       "      <td>5.0</td>\n",
       "      <td>2957891.0</td>\n",
       "      <td>17759.0</td>\n",
       "    </tr>\n",
       "  </tbody>\n",
       "</table>\n",
       "</div>"
      ],
      "text/plain": [
       "     mean  min        max  standard_deviation\n",
       "0  1029.0  5.0  2957891.0             17759.0"
      ]
     },
     "execution_count": 49,
     "metadata": {},
     "output_type": "execute_result"
    }
   ],
   "source": [
    "%%bigquery\n",
    "SELECT \n",
    "    ROUND(AVG(numVotes)) as mean, \n",
    "    ROUND(MIN(numVotes)) as min, \n",
    "    ROUND(MAX(numVotes)) as max, \n",
    "    ROUND(STDDEV(numVotes)) AS standard_deviation\n",
    "FROM `fall24-ba775-b07.data.imdb_title_ratings` "
   ]
  },
  {
   "cell_type": "markdown",
   "id": "3758cf07-a90b-4b70-8e79-56f28cc07bb2",
   "metadata": {},
   "source": [
    "Let's look at the average, count, min rating and the max rating for our dataset. We notice the average rating to be 6.956 with count to be 1494604 and min and max rating being 1 and 10 respectively. "
   ]
  },
  {
   "cell_type": "code",
   "execution_count": 50,
   "id": "cb4a8933-4c77-43dd-ad32-e5188e70b5aa",
   "metadata": {
    "tags": []
   },
   "outputs": [
    {
     "data": {
      "application/vnd.jupyter.widget-view+json": {
       "model_id": "f83471171a88455587e23e01c5d731c0",
       "version_major": 2,
       "version_minor": 0
      },
      "text/plain": [
       "Query is running:   0%|          |"
      ]
     },
     "metadata": {},
     "output_type": "display_data"
    },
    {
     "data": {
      "application/vnd.jupyter.widget-view+json": {
       "model_id": "39452577fe2b48a5b9fa4518914bf13d",
       "version_major": 2,
       "version_minor": 0
      },
      "text/plain": [
       "Downloading:   0%|          |"
      ]
     },
     "metadata": {},
     "output_type": "display_data"
    },
    {
     "data": {
      "text/html": [
       "<div>\n",
       "<style scoped>\n",
       "    .dataframe tbody tr th:only-of-type {\n",
       "        vertical-align: middle;\n",
       "    }\n",
       "\n",
       "    .dataframe tbody tr th {\n",
       "        vertical-align: top;\n",
       "    }\n",
       "\n",
       "    .dataframe thead th {\n",
       "        text-align: right;\n",
       "    }\n",
       "</style>\n",
       "<table border=\"1\" class=\"dataframe\">\n",
       "  <thead>\n",
       "    <tr style=\"text-align: right;\">\n",
       "      <th></th>\n",
       "      <th>count</th>\n",
       "      <th>avg_rating</th>\n",
       "      <th>min_rating</th>\n",
       "      <th>max_rating</th>\n",
       "    </tr>\n",
       "  </thead>\n",
       "  <tbody>\n",
       "    <tr>\n",
       "      <th>0</th>\n",
       "      <td>1494604</td>\n",
       "      <td>6.95666</td>\n",
       "      <td>1.0</td>\n",
       "      <td>10.0</td>\n",
       "    </tr>\n",
       "  </tbody>\n",
       "</table>\n",
       "</div>"
      ],
      "text/plain": [
       "     count  avg_rating  min_rating  max_rating\n",
       "0  1494604     6.95666         1.0        10.0"
      ]
     },
     "execution_count": 50,
     "metadata": {},
     "output_type": "execute_result"
    }
   ],
   "source": [
    "%%bigquery\n",
    "SELECT \n",
    "    COUNT(averageRating) AS count,\n",
    "    AVG(averageRating) AS avg_rating,\n",
    "    MIN(averageRating) AS min_rating,\n",
    "    MAX(averageRating) AS max_rating\n",
    "FROM `fall24-ba775-b07.views.clean_imdb_title_ratings`"
   ]
  },
  {
   "cell_type": "markdown",
   "id": "5aefa1d0-9c36-4d89-8a70-456c5db54fe3",
   "metadata": {},
   "source": [
    "Now let's explore the titles with high number of votes and ratings. Taking into account the previous findings of 1029 votes to be the mean and 6.96 to be the average rating, we notice that there are 50303 movies satisfying that criteria."
   ]
  },
  {
   "cell_type": "code",
   "execution_count": 51,
   "id": "dfcffde0-0fea-4f30-a30c-a37cb3fad2a6",
   "metadata": {
    "tags": []
   },
   "outputs": [
    {
     "data": {
      "application/vnd.jupyter.widget-view+json": {
       "model_id": "0847bd73c8d54265a5e7c4aef7892a09",
       "version_major": 2,
       "version_minor": 0
      },
      "text/plain": [
       "Query is running:   0%|          |"
      ]
     },
     "metadata": {},
     "output_type": "display_data"
    },
    {
     "data": {
      "application/vnd.jupyter.widget-view+json": {
       "model_id": "1a119b24259d44968397ab5af241a7f4",
       "version_major": 2,
       "version_minor": 0
      },
      "text/plain": [
       "Downloading:   0%|          |"
      ]
     },
     "metadata": {},
     "output_type": "display_data"
    },
    {
     "data": {
      "text/html": [
       "<div>\n",
       "<style scoped>\n",
       "    .dataframe tbody tr th:only-of-type {\n",
       "        vertical-align: middle;\n",
       "    }\n",
       "\n",
       "    .dataframe tbody tr th {\n",
       "        vertical-align: top;\n",
       "    }\n",
       "\n",
       "    .dataframe thead th {\n",
       "        text-align: right;\n",
       "    }\n",
       "</style>\n",
       "<table border=\"1\" class=\"dataframe\">\n",
       "  <thead>\n",
       "    <tr style=\"text-align: right;\">\n",
       "      <th></th>\n",
       "      <th>high_rating_high_votes_movies</th>\n",
       "    </tr>\n",
       "  </thead>\n",
       "  <tbody>\n",
       "    <tr>\n",
       "      <th>0</th>\n",
       "      <td>50303</td>\n",
       "    </tr>\n",
       "  </tbody>\n",
       "</table>\n",
       "</div>"
      ],
      "text/plain": [
       "   high_rating_high_votes_movies\n",
       "0                          50303"
      ]
     },
     "execution_count": 51,
     "metadata": {},
     "output_type": "execute_result"
    }
   ],
   "source": [
    "%%bigquery \n",
    "SELECT \n",
    "    COUNT(*) AS high_rating_high_votes_movies\n",
    "FROM `fall24-ba775-b07.data.imdb_title_ratings`\n",
    "WHERE averageRating > 6.96 AND numVotes > 1029"
   ]
  },
  {
   "cell_type": "markdown",
   "id": "58575422-d0e3-447a-acac-c08b5dcff594",
   "metadata": {},
   "source": [
    "Now let's explore the distinct langauges in our dataset. We can notice that there are 28 Distinct Languages in our movies dataset"
   ]
  },
  {
   "cell_type": "code",
   "execution_count": 52,
   "id": "1864d104-69b9-4486-8351-2839cc99e979",
   "metadata": {
    "tags": []
   },
   "outputs": [
    {
     "data": {
      "application/vnd.jupyter.widget-view+json": {
       "model_id": "d56caef9f3324ce8bb9993d101a4b3cc",
       "version_major": 2,
       "version_minor": 0
      },
      "text/plain": [
       "Query is running:   0%|          |"
      ]
     },
     "metadata": {},
     "output_type": "display_data"
    },
    {
     "data": {
      "application/vnd.jupyter.widget-view+json": {
       "model_id": "c927fef7d130494eb6cedf4f5adb2dc9",
       "version_major": 2,
       "version_minor": 0
      },
      "text/plain": [
       "Downloading:   0%|          |"
      ]
     },
     "metadata": {},
     "output_type": "display_data"
    },
    {
     "data": {
      "text/html": [
       "<div>\n",
       "<style scoped>\n",
       "    .dataframe tbody tr th:only-of-type {\n",
       "        vertical-align: middle;\n",
       "    }\n",
       "\n",
       "    .dataframe tbody tr th {\n",
       "        vertical-align: top;\n",
       "    }\n",
       "\n",
       "    .dataframe thead th {\n",
       "        text-align: right;\n",
       "    }\n",
       "</style>\n",
       "<table border=\"1\" class=\"dataframe\">\n",
       "  <thead>\n",
       "    <tr style=\"text-align: right;\">\n",
       "      <th></th>\n",
       "      <th>Number_Languages</th>\n",
       "    </tr>\n",
       "  </thead>\n",
       "  <tbody>\n",
       "    <tr>\n",
       "      <th>0</th>\n",
       "      <td>28</td>\n",
       "    </tr>\n",
       "  </tbody>\n",
       "</table>\n",
       "</div>"
      ],
      "text/plain": [
       "   Number_Languages\n",
       "0                28"
      ]
     },
     "execution_count": 52,
     "metadata": {},
     "output_type": "execute_result"
    }
   ],
   "source": [
    "%%bigquery\n",
    "SELECT COUNT(DISTINCT original_language) as Number_Languages\n",
    "FROM views.clean_imdb_5000_movies;"
   ]
  },
  {
   "cell_type": "markdown",
   "id": "bbeb5cec-34ce-4d3f-93c6-7bc0ff4260f4",
   "metadata": {},
   "source": [
    "Here we are trying to find the 3 quantiles for the revenue, according to our dataset. We can see 25th percentile is 15352895.25 with the median being 51751835.0 and 75th percentile being 140165095.5"
   ]
  },
  {
   "cell_type": "code",
   "execution_count": 53,
   "id": "2406cba1-9bea-4a09-b6a1-d3e2fc3538ca",
   "metadata": {
    "tags": []
   },
   "outputs": [
    {
     "data": {
      "application/vnd.jupyter.widget-view+json": {
       "model_id": "9a6e16703345419c96f04edbed887210",
       "version_major": 2,
       "version_minor": 0
      },
      "text/plain": [
       "Query is running:   0%|          |"
      ]
     },
     "metadata": {},
     "output_type": "display_data"
    },
    {
     "data": {
      "application/vnd.jupyter.widget-view+json": {
       "model_id": "70f3cc61be0a4424b1e58beb4bbe0a90",
       "version_major": 2,
       "version_minor": 0
      },
      "text/plain": [
       "Downloading:   0%|          |"
      ]
     },
     "metadata": {},
     "output_type": "display_data"
    },
    {
     "data": {
      "text/html": [
       "<div>\n",
       "<style scoped>\n",
       "    .dataframe tbody tr th:only-of-type {\n",
       "        vertical-align: middle;\n",
       "    }\n",
       "\n",
       "    .dataframe tbody tr th {\n",
       "        vertical-align: top;\n",
       "    }\n",
       "\n",
       "    .dataframe thead th {\n",
       "        text-align: right;\n",
       "    }\n",
       "</style>\n",
       "<table border=\"1\" class=\"dataframe\">\n",
       "  <thead>\n",
       "    <tr style=\"text-align: right;\">\n",
       "      <th></th>\n",
       "      <th>Revenue_25th_Percentile</th>\n",
       "      <th>Revenue_50th_Percentile</th>\n",
       "      <th>Revenue_75th_Percentile</th>\n",
       "    </tr>\n",
       "  </thead>\n",
       "  <tbody>\n",
       "    <tr>\n",
       "      <th>0</th>\n",
       "      <td>15352895.25</td>\n",
       "      <td>51751835.0</td>\n",
       "      <td>140165095.5</td>\n",
       "    </tr>\n",
       "  </tbody>\n",
       "</table>\n",
       "</div>"
      ],
      "text/plain": [
       "   Revenue_25th_Percentile  Revenue_50th_Percentile  Revenue_75th_Percentile\n",
       "0              15352895.25               51751835.0              140165095.5"
      ]
     },
     "execution_count": 53,
     "metadata": {},
     "output_type": "execute_result"
    }
   ],
   "source": [
    "%%bigquery\n",
    "SELECT \n",
    "    PERCENTILE_CONT(revenue, 0.25) OVER() AS Revenue_25th_Percentile,\n",
    "    PERCENTILE_CONT(revenue, 0.50) OVER() AS Revenue_50th_Percentile,\n",
    "    PERCENTILE_CONT(revenue, 0.75) OVER() AS Revenue_75th_Percentile\n",
    "FROM \n",
    "    `fall24-ba775-b07.data.imdb_5000_movies`\n",
    "WHERE revenue <> 0\n",
    "LIMIT 1;"
   ]
  },
  {
   "cell_type": "markdown",
   "id": "f50deaed-751e-4dd7-afaa-107b8c8e768b",
   "metadata": {},
   "source": [
    "## Genres"
   ]
  },
  {
   "cell_type": "markdown",
   "id": "bd2082e2-9d5b-47f9-bfad-6504b149bd67",
   "metadata": {},
   "source": [
    "**Which Genres have the highest ratings?**\n",
    "\n",
    "An analysis of genre combinations provides valuable insights into audience preferences and performance trends. Notably, Documentary, Mystery, Sci-Fi emerges as a standout with an impressive Average Rating of 9.5 and a Bayesian Average Rating of 8.20, indicating strong audience approval despite being represented by only one title. This suggests that niche or unique genre combinations can achieve exceptional ratings when executed well, providing an opportunity for targeted investments in similar projects.\n",
    "\n",
    "Similarly, Comedy, Music, Short ranks high with an Average Rating of 9.15 and a Bayesian Average Rating of 8.40, based on two titles. While this genre combination has a limited presence, its strong performance highlights its potential to captivate audiences. Stakeholders may explore producing more content within such high-performing genres, leveraging their appeal to niche yet engaged audience segments.\n",
    "\n",
    "By examining these metrics, stakeholders can identify underrepresented but high-performing genres and align production and marketing strategies to cater to these audience preferences effectively."
   ]
  },
  {
   "cell_type": "code",
   "execution_count": 6,
   "id": "ff8ddbd6-0218-41f3-ab89-f17426cbc876",
   "metadata": {
    "tags": []
   },
   "outputs": [
    {
     "data": {
      "application/vnd.jupyter.widget-view+json": {
       "model_id": "f16ddbbaf38d44daba89a670b877e770",
       "version_major": 2,
       "version_minor": 0
      },
      "text/plain": [
       "Query is running:   0%|          |"
      ]
     },
     "metadata": {},
     "output_type": "display_data"
    },
    {
     "data": {
      "application/vnd.jupyter.widget-view+json": {
       "model_id": "ba771cbb7da54b9182e269381621fc4f",
       "version_major": 2,
       "version_minor": 0
      },
      "text/plain": [
       "Downloading:   0%|          |"
      ]
     },
     "metadata": {},
     "output_type": "display_data"
    },
    {
     "data": {
      "text/html": [
       "<div>\n",
       "<style scoped>\n",
       "    .dataframe tbody tr th:only-of-type {\n",
       "        vertical-align: middle;\n",
       "    }\n",
       "\n",
       "    .dataframe tbody tr th {\n",
       "        vertical-align: top;\n",
       "    }\n",
       "\n",
       "    .dataframe thead th {\n",
       "        text-align: right;\n",
       "    }\n",
       "</style>\n",
       "<table border=\"1\" class=\"dataframe\">\n",
       "  <thead>\n",
       "    <tr style=\"text-align: right;\">\n",
       "      <th></th>\n",
       "      <th>genres</th>\n",
       "      <th>Num_Titles</th>\n",
       "      <th>Average_Rating</th>\n",
       "      <th>Bayesian_Avg_Rating</th>\n",
       "      <th>Rank</th>\n",
       "    </tr>\n",
       "  </thead>\n",
       "  <tbody>\n",
       "    <tr>\n",
       "      <th>0</th>\n",
       "      <td>Comedy,Music,Short</td>\n",
       "      <td>2</td>\n",
       "      <td>9.150</td>\n",
       "      <td>8.40</td>\n",
       "      <td>1</td>\n",
       "    </tr>\n",
       "    <tr>\n",
       "      <th>1</th>\n",
       "      <td>Adventure,Family,Reality-TV</td>\n",
       "      <td>4</td>\n",
       "      <td>8.575</td>\n",
       "      <td>8.24</td>\n",
       "      <td>2</td>\n",
       "    </tr>\n",
       "    <tr>\n",
       "      <th>2</th>\n",
       "      <td>Documentary,Mystery,Sci-Fi</td>\n",
       "      <td>1</td>\n",
       "      <td>9.500</td>\n",
       "      <td>8.20</td>\n",
       "      <td>3</td>\n",
       "    </tr>\n",
       "    <tr>\n",
       "      <th>3</th>\n",
       "      <td>Animation,Comedy,Talk-Show</td>\n",
       "      <td>2</td>\n",
       "      <td>8.800</td>\n",
       "      <td>8.16</td>\n",
       "      <td>4</td>\n",
       "    </tr>\n",
       "    <tr>\n",
       "      <th>4</th>\n",
       "      <td>Documentary,Family,Reality-TV</td>\n",
       "      <td>4</td>\n",
       "      <td>8.425</td>\n",
       "      <td>8.12</td>\n",
       "      <td>5</td>\n",
       "    </tr>\n",
       "  </tbody>\n",
       "</table>\n",
       "</div>"
      ],
      "text/plain": [
       "                          genres  Num_Titles  Average_Rating  \\\n",
       "0             Comedy,Music,Short           2           9.150   \n",
       "1    Adventure,Family,Reality-TV           4           8.575   \n",
       "2     Documentary,Mystery,Sci-Fi           1           9.500   \n",
       "3     Animation,Comedy,Talk-Show           2           8.800   \n",
       "4  Documentary,Family,Reality-TV           4           8.425   \n",
       "\n",
       "   Bayesian_Avg_Rating  Rank  \n",
       "0                 8.40     1  \n",
       "1                 8.24     2  \n",
       "2                 8.20     3  \n",
       "3                 8.16     4  \n",
       "4                 8.12     5  "
      ]
     },
     "execution_count": 6,
     "metadata": {},
     "output_type": "execute_result"
    }
   ],
   "source": [
    "%%bigquery\n",
    "WITH count_titles_genre AS (\n",
    "    SELECT \n",
    "        genres, \n",
    "        COUNT(DISTINCT b.tconst) AS Num_Titles, \n",
    "        AVG(t.averageRating) AS Average_Rating\n",
    "    FROM `fall24-ba775-b07.views.clean_titles_basics` b\n",
    "    INNER JOIN `fall24-ba775-b07.data.imdb_title_ratings` t \n",
    "    USING (tconst)\n",
    "    GROUP BY 1\n",
    "),\n",
    "\n",
    "bayesian_adjusted_ratings AS (\n",
    "    SELECT \n",
    "        genres, \n",
    "        Num_Titles, \n",
    "        Average_Rating, \n",
    "        ROUND(((Num_Titles * Average_Rating) + (MIN(Num_Titles) OVER () * AVG(Average_Rating) OVER ())) / (Num_Titles + MIN(Num_Titles) OVER ()), 2) AS Bayesian_Avg_Rating\n",
    "    FROM count_titles_genre\n",
    "),\n",
    "\n",
    "ranked_genres AS (\n",
    "    SELECT \n",
    "        genres, \n",
    "        Num_Titles, \n",
    "        Average_Rating, \n",
    "        Bayesian_Avg_Rating,\n",
    "        RANK() OVER (ORDER BY Bayesian_Avg_Rating DESC) AS Rank\n",
    "    FROM bayesian_adjusted_ratings\n",
    ")\n",
    "\n",
    "SELECT \n",
    "    genres, \n",
    "    Num_Titles, \n",
    "    Average_Rating, \n",
    "    Bayesian_Avg_Rating, \n",
    "    Rank\n",
    "FROM ranked_genres\n",
    "WHERE Rank <= 10\n",
    "ORDER BY Rank\n",
    "LIMIT 5"
   ]
  },
  {
   "cell_type": "markdown",
   "id": "0cde8b2a-0bd6-404a-a396-5a15e0d94a5f",
   "metadata": {},
   "source": [
    "**What is the average runtime for genres?**\n",
    "\n",
    "The genre combination Comedy, Crime, Drama has the highest average runtime, making it a dominant choice for longer-format storytelling. However, despite its runtime, its average rating is lower than that of Biography, History, War, which ranks second in average runtime but performs better in terms of audience ratings.\n",
    "\n",
    "This contrast highlights that while longer runtimes can indicate in-depth storytelling, they don’t necessarily guarantee higher ratings. Biography, History, War demonstrates that audiences value engaging narratives and impactful themes, even with extended runtimes. Stakeholders can use this insight to balance storytelling depth with audience preferences, prioritizing quality content over duration to maximize satisfaction and ratings."
   ]
  },
  {
   "cell_type": "code",
   "execution_count": 7,
   "id": "15c355a4-fbbf-4b44-ae4b-06c160931a12",
   "metadata": {
    "tags": []
   },
   "outputs": [
    {
     "data": {
      "application/vnd.jupyter.widget-view+json": {
       "model_id": "d835d561c42146568435ca6c63e91adc",
       "version_major": 2,
       "version_minor": 0
      },
      "text/plain": [
       "Query is running:   0%|          |"
      ]
     },
     "metadata": {},
     "output_type": "display_data"
    },
    {
     "data": {
      "application/vnd.jupyter.widget-view+json": {
       "model_id": "05a7027efb6d4c4f87bed11b6730e549",
       "version_major": 2,
       "version_minor": 0
      },
      "text/plain": [
       "Downloading:   0%|          |"
      ]
     },
     "metadata": {},
     "output_type": "display_data"
    },
    {
     "data": {
      "text/html": [
       "<div>\n",
       "<style scoped>\n",
       "    .dataframe tbody tr th:only-of-type {\n",
       "        vertical-align: middle;\n",
       "    }\n",
       "\n",
       "    .dataframe tbody tr th {\n",
       "        vertical-align: top;\n",
       "    }\n",
       "\n",
       "    .dataframe thead th {\n",
       "        text-align: right;\n",
       "    }\n",
       "</style>\n",
       "<table border=\"1\" class=\"dataframe\">\n",
       "  <thead>\n",
       "    <tr style=\"text-align: right;\">\n",
       "      <th></th>\n",
       "      <th>genres</th>\n",
       "      <th>averageRating</th>\n",
       "      <th>Average_Runtime</th>\n",
       "    </tr>\n",
       "  </thead>\n",
       "  <tbody>\n",
       "    <tr>\n",
       "      <th>0</th>\n",
       "      <td>Comedy,Crime,Drama</td>\n",
       "      <td>2.9</td>\n",
       "      <td>1442.00</td>\n",
       "    </tr>\n",
       "    <tr>\n",
       "      <th>1</th>\n",
       "      <td>Biography,History,War</td>\n",
       "      <td>8.3</td>\n",
       "      <td>1290.00</td>\n",
       "    </tr>\n",
       "    <tr>\n",
       "      <th>2</th>\n",
       "      <td>Documentary,News,War</td>\n",
       "      <td>4.2</td>\n",
       "      <td>1099.00</td>\n",
       "    </tr>\n",
       "    <tr>\n",
       "      <th>3</th>\n",
       "      <td>Family</td>\n",
       "      <td>1.9</td>\n",
       "      <td>1050.00</td>\n",
       "    </tr>\n",
       "    <tr>\n",
       "      <th>4</th>\n",
       "      <td>Action,Adventure,Drama</td>\n",
       "      <td>7.8</td>\n",
       "      <td>1003.33</td>\n",
       "    </tr>\n",
       "  </tbody>\n",
       "</table>\n",
       "</div>"
      ],
      "text/plain": [
       "                   genres  averageRating  Average_Runtime\n",
       "0      Comedy,Crime,Drama            2.9          1442.00\n",
       "1   Biography,History,War            8.3          1290.00\n",
       "2    Documentary,News,War            4.2          1099.00\n",
       "3                  Family            1.9          1050.00\n",
       "4  Action,Adventure,Drama            7.8          1003.33"
      ]
     },
     "execution_count": 7,
     "metadata": {},
     "output_type": "execute_result"
    }
   ],
   "source": [
    "%%bigquery\n",
    "SELECT genres, averageRating, ROUND(AVG(runtimeMinutes), 2) AS Average_Runtime\n",
    "FROM `fall24-ba775-b07.views.clean_titles_with_runtime`\n",
    "GROUP BY genres, averageRating\n",
    "ORDER BY Average_Runtime DESC\n",
    "LIMIT 5;"
   ]
  },
  {
   "cell_type": "markdown",
   "id": "28af81a1-9476-4424-a3b9-15c6fb2c92c6",
   "metadata": {
    "tags": []
   },
   "source": [
    "**Summary:** The analysis highlights top-performing genres like Documentary, Mystery, Sci-Fi and Comedy, Music, Short, which achieve high ratings despite limited representation. Comedy, Crime, Drama has the longest average runtime, but Biography, History, War outperforms it in audience ratings, showcasing the value of balancing storytelling depth with quality.\n",
    "These insights help stakeholders identify successful genres and refine content strategies to align with audience preferences and maximize impact.\n"
   ]
  },
  {
   "cell_type": "markdown",
   "id": "dc9092cf-9653-450e-81e8-96c1e56c058c",
   "metadata": {},
   "source": [
    "## Tv Shows"
   ]
  },
  {
   "cell_type": "markdown",
   "id": "f961ca6f-3e5c-412c-82c8-bb744b6c0e72",
   "metadata": {},
   "source": [
    "**What are some of the most popular title types according to the dataset?**\n",
    "\n",
    "Among TV show categories, tvEpisode, followed by tvMiniSeries and tvSeries, emerge as the most highly rated title types according to the Bayesian Average Rating. This metric provides a more reliable assessment by accounting for the number of titles and average ratings within each category, highlighting these formats' strong audience appeal. Stakeholders can focus on developing high-quality content in these title types, leveraging their proven popularity to attract and retain viewers while maximizing audience satisfaction."
   ]
  },
  {
   "cell_type": "code",
   "execution_count": 9,
   "id": "c9a480a1-a158-4f5a-8de7-b0864a9d55c0",
   "metadata": {
    "tags": []
   },
   "outputs": [
    {
     "data": {
      "application/vnd.jupyter.widget-view+json": {
       "model_id": "98bbd032c9fa4853a8a4616beec881a8",
       "version_major": 2,
       "version_minor": 0
      },
      "text/plain": [
       "Query is running:   0%|          |"
      ]
     },
     "metadata": {},
     "output_type": "display_data"
    },
    {
     "data": {
      "application/vnd.jupyter.widget-view+json": {
       "model_id": "88c9baa6f96147fc9120843dd4aa8941",
       "version_major": 2,
       "version_minor": 0
      },
      "text/plain": [
       "Downloading:   0%|          |"
      ]
     },
     "metadata": {},
     "output_type": "display_data"
    },
    {
     "data": {
      "text/html": [
       "<div>\n",
       "<style scoped>\n",
       "    .dataframe tbody tr th:only-of-type {\n",
       "        vertical-align: middle;\n",
       "    }\n",
       "\n",
       "    .dataframe tbody tr th {\n",
       "        vertical-align: top;\n",
       "    }\n",
       "\n",
       "    .dataframe thead th {\n",
       "        text-align: right;\n",
       "    }\n",
       "</style>\n",
       "<table border=\"1\" class=\"dataframe\">\n",
       "  <thead>\n",
       "    <tr style=\"text-align: right;\">\n",
       "      <th></th>\n",
       "      <th>Title_Type</th>\n",
       "      <th>Num_Titles</th>\n",
       "      <th>Average_Rating</th>\n",
       "      <th>Bayesian_Avg_Rating</th>\n",
       "    </tr>\n",
       "  </thead>\n",
       "  <tbody>\n",
       "    <tr>\n",
       "      <th>0</th>\n",
       "      <td>tvEpisode</td>\n",
       "      <td>753158</td>\n",
       "      <td>7.386163</td>\n",
       "      <td>7.38</td>\n",
       "    </tr>\n",
       "    <tr>\n",
       "      <th>1</th>\n",
       "      <td>tvMiniSeries</td>\n",
       "      <td>18435</td>\n",
       "      <td>7.132373</td>\n",
       "      <td>7.09</td>\n",
       "    </tr>\n",
       "    <tr>\n",
       "      <th>2</th>\n",
       "      <td>tvSeries</td>\n",
       "      <td>99263</td>\n",
       "      <td>6.855478</td>\n",
       "      <td>6.85</td>\n",
       "    </tr>\n",
       "    <tr>\n",
       "      <th>3</th>\n",
       "      <td>tvSpecial</td>\n",
       "      <td>12676</td>\n",
       "      <td>6.828558</td>\n",
       "      <td>6.82</td>\n",
       "    </tr>\n",
       "    <tr>\n",
       "      <th>4</th>\n",
       "      <td>short</td>\n",
       "      <td>163807</td>\n",
       "      <td>6.822635</td>\n",
       "      <td>6.82</td>\n",
       "    </tr>\n",
       "  </tbody>\n",
       "</table>\n",
       "</div>"
      ],
      "text/plain": [
       "     Title_Type  Num_Titles  Average_Rating  Bayesian_Avg_Rating\n",
       "0     tvEpisode      753158        7.386163                 7.38\n",
       "1  tvMiniSeries       18435        7.132373                 7.09\n",
       "2      tvSeries       99263        6.855478                 6.85\n",
       "3     tvSpecial       12676        6.828558                 6.82\n",
       "4         short      163807        6.822635                 6.82"
      ]
     },
     "execution_count": 9,
     "metadata": {},
     "output_type": "execute_result"
    }
   ],
   "source": [
    "%%bigquery\n",
    "WITH count_titles_title_type AS (\n",
    "    SELECT \n",
    "        titleType as Title_Type, \n",
    "        COUNT(DISTINCT b.tconst) AS Num_Titles, \n",
    "        AVG(t.averageRating) AS Average_Rating\n",
    "    FROM `fall24-ba775-b07.data.imdb_title_basics` b\n",
    "    INNER JOIN `fall24-ba775-b07.data.imdb_title_ratings` t \n",
    "    USING (tconst)\n",
    "    GROUP BY 1\n",
    ")\n",
    "\n",
    "SELECT \n",
    "    Title_Type, \n",
    "    Num_Titles, \n",
    "    Average_Rating, \n",
    "    ROUND(((Num_Titles * Average_Rating) + (MIN(Num_Titles) OVER () * AVG(Average_Rating) OVER ())) / (Num_Titles + MIN(Num_Titles) OVER ()), 2) AS Bayesian_Avg_Rating\n",
    "FROM \n",
    "    count_titles_title_type\n",
    "ORDER BY 4 DESC\n",
    "LIMIT 5;"
   ]
  },
  {
   "cell_type": "markdown",
   "id": "20f46d22-a6d4-4e9e-bc21-34d316fc9170",
   "metadata": {},
   "source": [
    "**What are some of the most popular genres in TV Series, TV Mini Series, and TV Episode?**"
   ]
  },
  {
   "cell_type": "markdown",
   "id": "142d48d1-bb1b-42f1-9fe5-697156658ff4",
   "metadata": {
    "tags": []
   },
   "source": [
    "To ensure the reliability of the analysis, we filtered for titles with more than the mean number of votes (1,029), removing those with lower vote counts. This reveals that the most popular genres in TV Series are War, Western, and Documentary.\n",
    "\n",
    "The Western genre, in particular, stands out as a multimedia genre set in the American West, typically between the 1850s and the end of the 19th century. This genre's continued popularity suggests a strong audience interest in historical and adventurous narratives set in this time period. Stakeholders can consider investing in War and Western genres for TV series, as these genres show high viewer engagement. Understanding the audience’s affinity for specific genres can guide content creation and marketing strategies.\n",
    "\n",
    "\n",
    "\n",
    "\n",
    "\n",
    "\n"
   ]
  },
  {
   "cell_type": "code",
   "execution_count": 10,
   "id": "4250571c-3dac-4a70-8eb9-b36054525084",
   "metadata": {
    "tags": []
   },
   "outputs": [
    {
     "data": {
      "application/vnd.jupyter.widget-view+json": {
       "model_id": "86c727821ea84e5686ddd8e3e1a454d4",
       "version_major": 2,
       "version_minor": 0
      },
      "text/plain": [
       "Query is running:   0%|          |"
      ]
     },
     "metadata": {},
     "output_type": "display_data"
    },
    {
     "data": {
      "application/vnd.jupyter.widget-view+json": {
       "model_id": "c054dbf5b4d34da19af264eb926dd30a",
       "version_major": 2,
       "version_minor": 0
      },
      "text/plain": [
       "Downloading:   0%|          |"
      ]
     },
     "metadata": {},
     "output_type": "display_data"
    },
    {
     "data": {
      "text/html": [
       "<div>\n",
       "<style scoped>\n",
       "    .dataframe tbody tr th:only-of-type {\n",
       "        vertical-align: middle;\n",
       "    }\n",
       "\n",
       "    .dataframe tbody tr th {\n",
       "        vertical-align: top;\n",
       "    }\n",
       "\n",
       "    .dataframe thead th {\n",
       "        text-align: right;\n",
       "    }\n",
       "</style>\n",
       "<table border=\"1\" class=\"dataframe\">\n",
       "  <thead>\n",
       "    <tr style=\"text-align: right;\">\n",
       "      <th></th>\n",
       "      <th>Genre</th>\n",
       "      <th>AvgRating</th>\n",
       "    </tr>\n",
       "  </thead>\n",
       "  <tbody>\n",
       "    <tr>\n",
       "      <th>0</th>\n",
       "      <td>War</td>\n",
       "      <td>8.033333</td>\n",
       "    </tr>\n",
       "    <tr>\n",
       "      <th>1</th>\n",
       "      <td>Western</td>\n",
       "      <td>7.626415</td>\n",
       "    </tr>\n",
       "    <tr>\n",
       "      <th>2</th>\n",
       "      <td>Documentary</td>\n",
       "      <td>7.593682</td>\n",
       "    </tr>\n",
       "    <tr>\n",
       "      <th>3</th>\n",
       "      <td>History</td>\n",
       "      <td>7.588462</td>\n",
       "    </tr>\n",
       "    <tr>\n",
       "      <th>4</th>\n",
       "      <td>Sport</td>\n",
       "      <td>7.516842</td>\n",
       "    </tr>\n",
       "  </tbody>\n",
       "</table>\n",
       "</div>"
      ],
      "text/plain": [
       "         Genre  AvgRating\n",
       "0          War   8.033333\n",
       "1      Western   7.626415\n",
       "2  Documentary   7.593682\n",
       "3      History   7.588462\n",
       "4        Sport   7.516842"
      ]
     },
     "execution_count": 10,
     "metadata": {},
     "output_type": "execute_result"
    }
   ],
   "source": [
    "%%bigquery\n",
    "SELECT \n",
    "    genre AS Genre, \n",
    "    AVG(tr.averageRating) AS AvgRating\n",
    "FROM `fall24-ba775-b07.views.clean_titles_basics` AS tb\n",
    "JOIN `fall24-ba775-b07.data.imdb_title_ratings` AS tr ON tb.tconst = tr.tconst\n",
    "JOIN UNNEST(SPLIT(tb.genres, ',')) AS genre\n",
    "WHERE tr.numVotes >= 1029 AND (tb.titleType = 'tvEpisode' OR tb.titleType = 'tvSeries' or tb.titleType = 'tvMiniSeries')\n",
    "GROUP BY Genre\n",
    "ORDER BY AvgRating DESC\n",
    "LIMIT 5"
   ]
  },
  {
   "cell_type": "markdown",
   "id": "fbfe03af-87dd-43a6-b252-670e131ba5fe",
   "metadata": {},
   "source": [
    "**What are some of the longest-Running TV Series with High Ratings?**"
   ]
  },
  {
   "cell_type": "markdown",
   "id": "40b042b0-73b6-4672-99b3-d450c670f92a",
   "metadata": {},
   "source": [
    "We noticed that the top 10 longest standing shows have certain categories prevalent:\n",
    "- News/ Interview Style: Der internationale Frühschoppen, CBS Evening News, Top of the Pops, Guiding Light \n",
    "- Game Show:Password, Programa Raul Gil\t\n",
    "- Cooking Show: The French Chef\n",
    "- Children's Show: Crackerjack!, Cirkeline\t\n",
    "- TV Series: The Roy Rogers Show\n",
    "\n",
    "The prevalence of certain genres among long-standing shows suggests that News/Interview, Game Shows, and Children’s Programming can be strong contenders for sustained viewership. Stakeholders might explore these formats when planning for long-term audience engagement and content longevity."
   ]
  },
  {
   "cell_type": "code",
   "execution_count": 11,
   "id": "755b8344-e3bc-42ff-a1cc-3ec71ba129c7",
   "metadata": {
    "tags": []
   },
   "outputs": [
    {
     "data": {
      "application/vnd.jupyter.widget-view+json": {
       "model_id": "40c673bd1fbb434b9479b592f31415ff",
       "version_major": 2,
       "version_minor": 0
      },
      "text/plain": [
       "Query is running:   0%|          |"
      ]
     },
     "metadata": {},
     "output_type": "display_data"
    },
    {
     "data": {
      "application/vnd.jupyter.widget-view+json": {
       "model_id": "6b741c4346c94bd89397b1e071d4722c",
       "version_major": 2,
       "version_minor": 0
      },
      "text/plain": [
       "Downloading:   0%|          |"
      ]
     },
     "metadata": {},
     "output_type": "display_data"
    },
    {
     "data": {
      "text/html": [
       "<div>\n",
       "<style scoped>\n",
       "    .dataframe tbody tr th:only-of-type {\n",
       "        vertical-align: middle;\n",
       "    }\n",
       "\n",
       "    .dataframe tbody tr th {\n",
       "        vertical-align: top;\n",
       "    }\n",
       "\n",
       "    .dataframe thead th {\n",
       "        text-align: right;\n",
       "    }\n",
       "</style>\n",
       "<table border=\"1\" class=\"dataframe\">\n",
       "  <thead>\n",
       "    <tr style=\"text-align: right;\">\n",
       "      <th></th>\n",
       "      <th>series_title</th>\n",
       "      <th>start_year</th>\n",
       "      <th>end_year</th>\n",
       "      <th>total_runtime_years</th>\n",
       "      <th>avg_rating</th>\n",
       "    </tr>\n",
       "  </thead>\n",
       "  <tbody>\n",
       "    <tr>\n",
       "      <th>0</th>\n",
       "      <td>Der internationale Frühschoppen</td>\n",
       "      <td>1953</td>\n",
       "      <td>2023</td>\n",
       "      <td>70</td>\n",
       "      <td>5.5</td>\n",
       "    </tr>\n",
       "    <tr>\n",
       "      <th>1</th>\n",
       "      <td>Crackerjack!</td>\n",
       "      <td>1955</td>\n",
       "      <td>2021</td>\n",
       "      <td>66</td>\n",
       "      <td>6.7</td>\n",
       "    </tr>\n",
       "    <tr>\n",
       "      <th>2</th>\n",
       "      <td>Password</td>\n",
       "      <td>1961</td>\n",
       "      <td>2024</td>\n",
       "      <td>63</td>\n",
       "      <td>7.3</td>\n",
       "    </tr>\n",
       "    <tr>\n",
       "      <th>3</th>\n",
       "      <td>The Roy Rogers Show</td>\n",
       "      <td>1951</td>\n",
       "      <td>2014</td>\n",
       "      <td>63</td>\n",
       "      <td>7.1</td>\n",
       "    </tr>\n",
       "    <tr>\n",
       "      <th>4</th>\n",
       "      <td>CBS Evening News</td>\n",
       "      <td>1963</td>\n",
       "      <td>2025</td>\n",
       "      <td>62</td>\n",
       "      <td>5.7</td>\n",
       "    </tr>\n",
       "  </tbody>\n",
       "</table>\n",
       "</div>"
      ],
      "text/plain": [
       "                      series_title  start_year  end_year  total_runtime_years  \\\n",
       "0  Der internationale Frühschoppen        1953      2023                   70   \n",
       "1                     Crackerjack!        1955      2021                   66   \n",
       "2                         Password        1961      2024                   63   \n",
       "3              The Roy Rogers Show        1951      2014                   63   \n",
       "4                 CBS Evening News        1963      2025                   62   \n",
       "\n",
       "   avg_rating  \n",
       "0         5.5  \n",
       "1         6.7  \n",
       "2         7.3  \n",
       "3         7.1  \n",
       "4         5.7  "
      ]
     },
     "execution_count": 11,
     "metadata": {},
     "output_type": "execute_result"
    }
   ],
   "source": [
    "\n",
    "%%bigquery\n",
    "WITH valid_series AS (\n",
    "    SELECT\n",
    "        tb.tconst AS series_id,\n",
    "        tb.primaryTitle AS series_title,\n",
    "        CAST(tb.startYear AS INT64) AS start_year,\n",
    "        CASE \n",
    "            WHEN tb.endYear = '\\\\N' OR tb.endYear IS NULL THEN EXTRACT(YEAR FROM CURRENT_DATE()) \n",
    "            ELSE CAST(tb.endYear AS INT64)\n",
    "        END AS end_year,\n",
    "        tr.averageRating AS avg_rating\n",
    "    FROM \n",
    "        `fall24-ba775-b07.views.clean_titles_basics` tb\n",
    "    JOIN \n",
    "        `fall24-ba775-b07.views.clean_imdb_title_ratings` tr\n",
    "    ON tb.tconst = tr.tconst\n",
    "    WHERE \n",
    "        tb.titleType = 'tvSeries'\n",
    "        AND tb.startYear IS NOT NULL\n",
    "),\n",
    "\n",
    "series_runtime_ratings AS (\n",
    "    SELECT\n",
    "        series_id,\n",
    "        series_title,\n",
    "        start_year,\n",
    "        end_year,\n",
    "        (end_year - start_year) AS total_runtime_years,\n",
    "        ROUND(AVG(avg_rating), 2) AS avg_rating\n",
    "    FROM valid_series\n",
    "    WHERE end_year >= start_year\n",
    "    GROUP BY series_id, series_title, start_year, end_year\n",
    "),\n",
    "\n",
    "ranked_series AS (\n",
    "    SELECT\n",
    "        series_id,\n",
    "        series_title,\n",
    "        start_year,\n",
    "        end_year,\n",
    "        total_runtime_years,\n",
    "        avg_rating,\n",
    "        ROW_NUMBER() OVER (ORDER BY total_runtime_years DESC, avg_rating DESC) AS row_num\n",
    "    FROM series_runtime_ratings\n",
    ")\n",
    "\n",
    "SELECT\n",
    "    series_title,\n",
    "    start_year,\n",
    "    end_year,\n",
    "    total_runtime_years,\n",
    "    avg_rating\n",
    "FROM ranked_series\n",
    "WHERE row_num <= 10\n",
    "ORDER BY total_runtime_years DESC, avg_rating DESC\n",
    "LIMIT 5"
   ]
  },
  {
   "cell_type": "markdown",
   "id": "1dcf48a7-7058-4210-836e-081ffcc8de51",
   "metadata": {},
   "source": [
    "**In this dataset, are the season number listings consistent across different TV series?**\n"
   ]
  },
  {
   "cell_type": "markdown",
   "id": "0207990b-e33c-4823-aff7-b1278891f337",
   "metadata": {},
   "source": [
    "We notice that the dataset has a lot of missing data as well as some inaccurate seasons. For the series \"Pokemon Snap\", we see that there are a couple of missing seasons, we only have 1,4,7,8. "
   ]
  },
  {
   "cell_type": "code",
   "execution_count": 12,
   "id": "bf1ba317-d2a9-48a3-9d1a-c2f3faeff897",
   "metadata": {
    "tags": []
   },
   "outputs": [
    {
     "data": {
      "application/vnd.jupyter.widget-view+json": {
       "model_id": "23eb9719b1154bef85d5b2ba176a05b4",
       "version_major": 2,
       "version_minor": 0
      },
      "text/plain": [
       "Query is running:   0%|          |"
      ]
     },
     "metadata": {},
     "output_type": "display_data"
    },
    {
     "data": {
      "application/vnd.jupyter.widget-view+json": {
       "model_id": "743a790af9e94cc19baf4595ba9dcffe",
       "version_major": 2,
       "version_minor": 0
      },
      "text/plain": [
       "Downloading:   0%|          |"
      ]
     },
     "metadata": {},
     "output_type": "display_data"
    },
    {
     "data": {
      "text/html": [
       "<div>\n",
       "<style scoped>\n",
       "    .dataframe tbody tr th:only-of-type {\n",
       "        vertical-align: middle;\n",
       "    }\n",
       "\n",
       "    .dataframe tbody tr th {\n",
       "        vertical-align: top;\n",
       "    }\n",
       "\n",
       "    .dataframe thead th {\n",
       "        text-align: right;\n",
       "    }\n",
       "</style>\n",
       "<table border=\"1\" class=\"dataframe\">\n",
       "  <thead>\n",
       "    <tr style=\"text-align: right;\">\n",
       "      <th></th>\n",
       "      <th>primaryTitle</th>\n",
       "      <th>season_count</th>\n",
       "      <th>season_list</th>\n",
       "    </tr>\n",
       "  </thead>\n",
       "  <tbody>\n",
       "    <tr>\n",
       "      <th>0</th>\n",
       "      <td>Barbarians at the Gate</td>\n",
       "      <td>4</td>\n",
       "      <td>1,3,4,6</td>\n",
       "    </tr>\n",
       "    <tr>\n",
       "      <th>1</th>\n",
       "      <td>2009: Day 7, Part 1</td>\n",
       "      <td>4</td>\n",
       "      <td>1,35,37,67</td>\n",
       "    </tr>\n",
       "    <tr>\n",
       "      <th>2</th>\n",
       "      <td>Digestion</td>\n",
       "      <td>4</td>\n",
       "      <td>1,3,5,6</td>\n",
       "    </tr>\n",
       "    <tr>\n",
       "      <th>3</th>\n",
       "      <td>No Witnesses</td>\n",
       "      <td>4</td>\n",
       "      <td>1,4,5,52</td>\n",
       "    </tr>\n",
       "    <tr>\n",
       "      <th>4</th>\n",
       "      <td>Brooklyn Nets vs. Sacramento Kings</td>\n",
       "      <td>4</td>\n",
       "      <td>15,16,17,19</td>\n",
       "    </tr>\n",
       "  </tbody>\n",
       "</table>\n",
       "</div>"
      ],
      "text/plain": [
       "                         primaryTitle  season_count  season_list\n",
       "0              Barbarians at the Gate             4      1,3,4,6\n",
       "1                 2009: Day 7, Part 1             4   1,35,37,67\n",
       "2                           Digestion             4      1,3,5,6\n",
       "3                        No Witnesses             4     1,4,5,52\n",
       "4  Brooklyn Nets vs. Sacramento Kings             4  15,16,17,19"
      ]
     },
     "execution_count": 12,
     "metadata": {},
     "output_type": "execute_result"
    }
   ],
   "source": [
    "%%bigquery\n",
    "WITH season_list AS (\n",
    "    SELECT \n",
    "        tb.primaryTitle, \n",
    "        COUNT(DISTINCT te.seasonNumber) AS season_count, \n",
    "        STRING_AGG(DISTINCT te.seasonNumber ORDER BY te.seasonNumber) AS season_list\n",
    "    FROM `fall24-ba775-b07.views.clean_title_episode` AS te\n",
    "    JOIN `fall24-ba775-b07.data.imdb_title_basics` AS tb ON te.tconst = tb.tconst\n",
    "    GROUP BY tb.primaryTitle\n",
    ")\n",
    "\n",
    "SELECT * FROM season_list\n",
    "WHERE season_count = 4\n",
    "LIMIT 5"
   ]
  },
  {
   "cell_type": "markdown",
   "id": "2e4ba423-15a4-4b6f-8cfd-cf5bdf5b9fe7",
   "metadata": {},
   "source": [
    "**What is the top-rated season for 'Awakening' series ?**"
   ]
  },
  {
   "cell_type": "markdown",
   "id": "aa69d284-79e3-4078-b4d8-de67544bcb6b",
   "metadata": {},
   "source": [
    "We chose 'Awakening' series as it is the series with all 4 seasons present. We are noticing that it maintains a consistent rating of 8 across all the seasons.\n",
    "This approach of selecting shows with complete season data can provide valuable insights into consistent performance trends. By analyzing other series in a similar manner, stakeholders can identify patterns in audience ratings across seasons, helping to guide decisions on content continuation, scheduling, and audience engagement strategies."
   ]
  },
  {
   "cell_type": "code",
   "execution_count": 13,
   "id": "bd43b6a3-19d7-4d54-a410-3b605e60756e",
   "metadata": {
    "tags": []
   },
   "outputs": [
    {
     "data": {
      "application/vnd.jupyter.widget-view+json": {
       "model_id": "b6b5065229154ef0830a2992ff712a2b",
       "version_major": 2,
       "version_minor": 0
      },
      "text/plain": [
       "Query is running:   0%|          |"
      ]
     },
     "metadata": {},
     "output_type": "display_data"
    },
    {
     "data": {
      "application/vnd.jupyter.widget-view+json": {
       "model_id": "41e977252715406a8837420bba6cf6cf",
       "version_major": 2,
       "version_minor": 0
      },
      "text/plain": [
       "Downloading:   0%|          |"
      ]
     },
     "metadata": {},
     "output_type": "display_data"
    },
    {
     "data": {
      "text/html": [
       "<div>\n",
       "<style scoped>\n",
       "    .dataframe tbody tr th:only-of-type {\n",
       "        vertical-align: middle;\n",
       "    }\n",
       "\n",
       "    .dataframe tbody tr th {\n",
       "        vertical-align: top;\n",
       "    }\n",
       "\n",
       "    .dataframe thead th {\n",
       "        text-align: right;\n",
       "    }\n",
       "</style>\n",
       "<table border=\"1\" class=\"dataframe\">\n",
       "  <thead>\n",
       "    <tr style=\"text-align: right;\">\n",
       "      <th></th>\n",
       "      <th>seasonNumber</th>\n",
       "      <th>primaryTitle</th>\n",
       "      <th>avg_rating</th>\n",
       "      <th>Number_Votes</th>\n",
       "    </tr>\n",
       "  </thead>\n",
       "  <tbody>\n",
       "    <tr>\n",
       "      <th>0</th>\n",
       "      <td>1</td>\n",
       "      <td>Awakening</td>\n",
       "      <td>8.0</td>\n",
       "      <td>7307</td>\n",
       "    </tr>\n",
       "    <tr>\n",
       "      <th>1</th>\n",
       "      <td>2</td>\n",
       "      <td>Awakening</td>\n",
       "      <td>8.0</td>\n",
       "      <td>6345</td>\n",
       "    </tr>\n",
       "    <tr>\n",
       "      <th>2</th>\n",
       "      <td>3</td>\n",
       "      <td>Awakening</td>\n",
       "      <td>8.0</td>\n",
       "      <td>224</td>\n",
       "    </tr>\n",
       "    <tr>\n",
       "      <th>3</th>\n",
       "      <td>4</td>\n",
       "      <td>Awakening</td>\n",
       "      <td>8.0</td>\n",
       "      <td>3832</td>\n",
       "    </tr>\n",
       "  </tbody>\n",
       "</table>\n",
       "</div>"
      ],
      "text/plain": [
       "   seasonNumber primaryTitle  avg_rating  Number_Votes\n",
       "0             1    Awakening         8.0          7307\n",
       "1             2    Awakening         8.0          6345\n",
       "2             3    Awakening         8.0           224\n",
       "3             4    Awakening         8.0          3832"
      ]
     },
     "execution_count": 13,
     "metadata": {},
     "output_type": "execute_result"
    }
   ],
   "source": [
    "%%bigquery\n",
    "SELECT \n",
    "    CAST(te.seasonNumber AS INT64) AS seasonNumber, \n",
    "    primaryTitle, \n",
    "    ROUND(AVG(averageRating)) AS avg_rating, \n",
    "    SUM(numVotes) AS Number_Votes\n",
    "FROM `fall24-ba775-b07.views.clean_title_episodes` AS te\n",
    "WHERE LOWER(primaryTitle) = 'awakening'\n",
    "GROUP BY primaryTitle, seasonNumber\n",
    "ORDER BY seasonNumber"
   ]
  },
  {
   "cell_type": "markdown",
   "id": "856ce927-fac0-422d-9998-7b70a7364f6c",
   "metadata": {},
   "source": [
    "**Summary:** The analysis highlights popular TV genres, including War, Western, and Documentary, with Western shows showing consistent viewer interest. These genres offer opportunities for content targeting loyal, niche audiences.\n",
    "\n",
    "Longest-standing shows like those in News/Interview Style, Game Shows, and Children's Programming demonstrate potential for sustained engagement, guiding investments in enduring content formats.\n",
    "\n",
    "Series like 'Awakening', maintaining a consistent 8 rating across all seasons, emphasize that high-quality, steady content is key to long-term audience satisfaction. This insight suggests prioritizing quality across seasons for ongoing viewer engagement."
   ]
  },
  {
   "cell_type": "markdown",
   "id": "90108954-887e-4c5d-9f0e-92ff108f79f5",
   "metadata": {},
   "source": [
    "## Movies"
   ]
  },
  {
   "cell_type": "markdown",
   "id": "58de0ed2-d058-43c5-9100-7056ac13f93c",
   "metadata": {},
   "source": [
    "**What are some of the most popular movie genres and what is their average popularity and average rating?**\n",
    "\n",
    "The analysis reveals that Drama (7.12), Thriller (7.08), and Action (6.99) are among the highest-rated genres based on average ratings. However, despite their strong ratings, these genres do not rank the highest in terms of average popularity, suggesting that critical acclaim does not always correlate with widespread audience appeal.\n",
    "\n",
    "This insight highlights the importance of balancing quality and popularity. While investing in highly rated genres can build a reputation for excellence, targeting more popular genres may yield broader audience engagement and commercial success."
   ]
  },
  {
   "cell_type": "code",
   "execution_count": 14,
   "id": "a921d61a-d414-4dfe-88c7-0a4b939afcad",
   "metadata": {
    "tags": []
   },
   "outputs": [
    {
     "data": {
      "application/vnd.jupyter.widget-view+json": {
       "model_id": "3ebda03098eb4e1785054f65c4d842c9",
       "version_major": 2,
       "version_minor": 0
      },
      "text/plain": [
       "Query is running:   0%|          |"
      ]
     },
     "metadata": {},
     "output_type": "display_data"
    },
    {
     "data": {
      "application/vnd.jupyter.widget-view+json": {
       "model_id": "130099afa64d4c7faba8cf371cba47e9",
       "version_major": 2,
       "version_minor": 0
      },
      "text/plain": [
       "Downloading:   0%|          |"
      ]
     },
     "metadata": {},
     "output_type": "display_data"
    },
    {
     "data": {
      "text/html": [
       "<div>\n",
       "<style scoped>\n",
       "    .dataframe tbody tr th:only-of-type {\n",
       "        vertical-align: middle;\n",
       "    }\n",
       "\n",
       "    .dataframe tbody tr th {\n",
       "        vertical-align: top;\n",
       "    }\n",
       "\n",
       "    .dataframe thead th {\n",
       "        text-align: right;\n",
       "    }\n",
       "</style>\n",
       "<table border=\"1\" class=\"dataframe\">\n",
       "  <thead>\n",
       "    <tr style=\"text-align: right;\">\n",
       "      <th></th>\n",
       "      <th>genre_names</th>\n",
       "      <th>genre_count</th>\n",
       "      <th>avg_popularity</th>\n",
       "      <th>avg_rating</th>\n",
       "    </tr>\n",
       "  </thead>\n",
       "  <tbody>\n",
       "    <tr>\n",
       "      <th>0</th>\n",
       "      <td>Drama</td>\n",
       "      <td>8892</td>\n",
       "      <td>28.17</td>\n",
       "      <td>7.12</td>\n",
       "    </tr>\n",
       "    <tr>\n",
       "      <th>1</th>\n",
       "      <td>Thriller</td>\n",
       "      <td>7258</td>\n",
       "      <td>30.82</td>\n",
       "      <td>7.08</td>\n",
       "    </tr>\n",
       "    <tr>\n",
       "      <th>2</th>\n",
       "      <td>Action</td>\n",
       "      <td>5623</td>\n",
       "      <td>41.11</td>\n",
       "      <td>6.99</td>\n",
       "    </tr>\n",
       "    <tr>\n",
       "      <th>3</th>\n",
       "      <td>Comedy</td>\n",
       "      <td>5562</td>\n",
       "      <td>28.90</td>\n",
       "      <td>6.94</td>\n",
       "    </tr>\n",
       "    <tr>\n",
       "      <th>4</th>\n",
       "      <td>Adventure</td>\n",
       "      <td>3877</td>\n",
       "      <td>50.34</td>\n",
       "      <td>6.95</td>\n",
       "    </tr>\n",
       "  </tbody>\n",
       "</table>\n",
       "</div>"
      ],
      "text/plain": [
       "  genre_names  genre_count  avg_popularity  avg_rating\n",
       "0       Drama         8892           28.17        7.12\n",
       "1    Thriller         7258           30.82        7.08\n",
       "2      Action         5623           41.11        6.99\n",
       "3      Comedy         5562           28.90        6.94\n",
       "4   Adventure         3877           50.34        6.95"
      ]
     },
     "execution_count": 14,
     "metadata": {},
     "output_type": "execute_result"
    }
   ],
   "source": [
    "%%bigquery\n",
    "\n",
    "SELECT \n",
    "    genre_names,\n",
    "    COUNT(*) AS genre_count,\n",
    "    ROUND(AVG(m.popularity),2) AS avg_popularity,\n",
    "    ROUND(AVG(r.averageRating),2) AS avg_rating\n",
    "FROM \n",
    "    fall24-ba775-b07.views.clean_imdb_5000_movies AS m \n",
    "JOIN \n",
    "    fall24-ba775-b07.data.imdb_title_basics AS t\n",
    "    ON m.original_title = t.originalTitle\n",
    "JOIN \n",
    "    fall24-ba775-b07.data.imdb_title_ratings AS r \n",
    "    USING(tconst) \n",
    ",  UNNEST(ARRAY(SELECT JSON_EXTRACT_SCALAR(genre, '$.name')\n",
    "        FROM UNNEST(JSON_EXTRACT_ARRAY(m.genres, '$')) AS genre\n",
    "    )) AS genre_names\n",
    "GROUP BY \n",
    "    genre_names\n",
    "ORDER BY \n",
    "    genre_count DESC\n",
    "LIMIT 5"
   ]
  },
  {
   "cell_type": "markdown",
   "id": "6ff591e1-d95b-49a7-acbd-7bb56b4818c6",
   "metadata": {},
   "source": [
    "**What are some of the highest rated language movies?**\n",
    "\n",
    "The analysis shows that Portuguese and Hebrew movies are relatively underrepresented in the dataset but achieve the highest average ratings. This indicates strong audience and critical appreciation for films in these languages despite their limited presence.\n",
    "\n",
    "This presents an opportunity for stakeholders to explore and invest in high-quality content in these languages, tapping into niche markets with potential for critical acclaim and audience satisfaction."
   ]
  },
  {
   "cell_type": "code",
   "execution_count": 15,
   "id": "dfe3e304-e20c-41e2-b30a-ca531ac6bb74",
   "metadata": {
    "tags": []
   },
   "outputs": [
    {
     "data": {
      "application/vnd.jupyter.widget-view+json": {
       "model_id": "280ba6738d4a4742ad1d74a698ba7a16",
       "version_major": 2,
       "version_minor": 0
      },
      "text/plain": [
       "Query is running:   0%|          |"
      ]
     },
     "metadata": {},
     "output_type": "display_data"
    },
    {
     "data": {
      "application/vnd.jupyter.widget-view+json": {
       "model_id": "b6910659504d44a8bfeba7d169e449eb",
       "version_major": 2,
       "version_minor": 0
      },
      "text/plain": [
       "Downloading:   0%|          |"
      ]
     },
     "metadata": {},
     "output_type": "display_data"
    },
    {
     "data": {
      "text/html": [
       "<div>\n",
       "<style scoped>\n",
       "    .dataframe tbody tr th:only-of-type {\n",
       "        vertical-align: middle;\n",
       "    }\n",
       "\n",
       "    .dataframe tbody tr th {\n",
       "        vertical-align: top;\n",
       "    }\n",
       "\n",
       "    .dataframe thead th {\n",
       "        text-align: right;\n",
       "    }\n",
       "</style>\n",
       "<table border=\"1\" class=\"dataframe\">\n",
       "  <thead>\n",
       "    <tr style=\"text-align: right;\">\n",
       "      <th></th>\n",
       "      <th>language_name</th>\n",
       "      <th>avg_rating</th>\n",
       "    </tr>\n",
       "  </thead>\n",
       "  <tbody>\n",
       "    <tr>\n",
       "      <th>0</th>\n",
       "      <td>Portuguese</td>\n",
       "      <td>8.300000</td>\n",
       "    </tr>\n",
       "    <tr>\n",
       "      <th>1</th>\n",
       "      <td>Hebrew</td>\n",
       "      <td>8.000000</td>\n",
       "    </tr>\n",
       "    <tr>\n",
       "      <th>2</th>\n",
       "      <td>Italian</td>\n",
       "      <td>7.716667</td>\n",
       "    </tr>\n",
       "    <tr>\n",
       "      <th>3</th>\n",
       "      <td>Indonesian</td>\n",
       "      <td>7.600000</td>\n",
       "    </tr>\n",
       "    <tr>\n",
       "      <th>4</th>\n",
       "      <td>Germany</td>\n",
       "      <td>7.356522</td>\n",
       "    </tr>\n",
       "  </tbody>\n",
       "</table>\n",
       "</div>"
      ],
      "text/plain": [
       "  language_name  avg_rating\n",
       "0    Portuguese    8.300000\n",
       "1        Hebrew    8.000000\n",
       "2       Italian    7.716667\n",
       "3    Indonesian    7.600000\n",
       "4       Germany    7.356522"
      ]
     },
     "execution_count": 15,
     "metadata": {},
     "output_type": "execute_result"
    }
   ],
   "source": [
    "%%bigquery\n",
    "SELECT \n",
    "    language_name,\n",
    "    AVG(r.averageRating) AS avg_rating\n",
    "FROM \n",
    "    `fall24-ba775-b07.views.clean_movies_with_language` AS m\n",
    "JOIN \n",
    "    fall24-ba775-b07.data.imdb_title_basics AS t\n",
    "    ON m.original_title = t.originalTitle\n",
    "JOIN \n",
    "    fall24-ba775-b07.data.imdb_title_ratings AS r \n",
    "    USING(tconst)\n",
    "GROUP BY \n",
    "    language_name\n",
    "ORDER BY \n",
    "    avg_rating DESC\n",
    "LIMIT 5;\n"
   ]
  },
  {
   "cell_type": "markdown",
   "id": "06f1f98e-3f8c-4b04-bdb3-f5899de9b6b7",
   "metadata": {
    "tags": []
   },
   "source": [
    "**What are the Top 10 Highest-Rated Movies?**"
   ]
  },
  {
   "cell_type": "markdown",
   "id": "544e2ae2-1f61-46c8-9da4-64bb3c06df9f",
   "metadata": {},
   "source": [
    "The analysis reveals that Telugu movies dominate the top 10 highest-rated movies, with exceptions being Adharma Kadhaigal (Tamil), Rewind (Filipino), and Gundi: Legend of Love (Bulgarian). Interestingly, no Hollywood movies feature in the top 10 according to this dataset.\n",
    "\n",
    "This highlights the strong performance of regional cinema, particularly Telugu films, in achieving high ratings. Stakeholders could explore regional content as an emerging area of interest, diversifying investments to include non-Hollywood productions that resonate with audiences globally."
   ]
  },
  {
   "cell_type": "code",
   "execution_count": 23,
   "id": "241a6f50-2dea-499d-a282-4b6e8aa064b3",
   "metadata": {
    "tags": []
   },
   "outputs": [
    {
     "data": {
      "application/vnd.jupyter.widget-view+json": {
       "model_id": "9eafde8d7bec459884818162a2e74aa2",
       "version_major": 2,
       "version_minor": 0
      },
      "text/plain": [
       "Query is running:   0%|          |"
      ]
     },
     "metadata": {},
     "output_type": "display_data"
    },
    {
     "data": {
      "application/vnd.jupyter.widget-view+json": {
       "model_id": "24a8c3c0862643169d6c6492661a5565",
       "version_major": 2,
       "version_minor": 0
      },
      "text/plain": [
       "Downloading:   0%|          |"
      ]
     },
     "metadata": {},
     "output_type": "display_data"
    },
    {
     "data": {
      "text/html": [
       "<div>\n",
       "<style scoped>\n",
       "    .dataframe tbody tr th:only-of-type {\n",
       "        vertical-align: middle;\n",
       "    }\n",
       "\n",
       "    .dataframe tbody tr th {\n",
       "        vertical-align: top;\n",
       "    }\n",
       "\n",
       "    .dataframe thead th {\n",
       "        text-align: right;\n",
       "    }\n",
       "</style>\n",
       "<table border=\"1\" class=\"dataframe\">\n",
       "  <thead>\n",
       "    <tr style=\"text-align: right;\">\n",
       "      <th></th>\n",
       "      <th>primaryTitle</th>\n",
       "      <th>averageRating</th>\n",
       "      <th>numVotes</th>\n",
       "    </tr>\n",
       "  </thead>\n",
       "  <tbody>\n",
       "    <tr>\n",
       "      <th>0</th>\n",
       "      <td>Kaveri</td>\n",
       "      <td>10.0</td>\n",
       "      <td>1033</td>\n",
       "    </tr>\n",
       "    <tr>\n",
       "      <th>1</th>\n",
       "      <td>C202</td>\n",
       "      <td>9.9</td>\n",
       "      <td>2022</td>\n",
       "    </tr>\n",
       "    <tr>\n",
       "      <th>2</th>\n",
       "      <td>Laggam</td>\n",
       "      <td>9.7</td>\n",
       "      <td>3548</td>\n",
       "    </tr>\n",
       "    <tr>\n",
       "      <th>3</th>\n",
       "      <td>Operation Raavan</td>\n",
       "      <td>9.7</td>\n",
       "      <td>1065</td>\n",
       "    </tr>\n",
       "    <tr>\n",
       "      <th>4</th>\n",
       "      <td>Narudi Brathuku Natana</td>\n",
       "      <td>9.7</td>\n",
       "      <td>1913</td>\n",
       "    </tr>\n",
       "    <tr>\n",
       "      <th>5</th>\n",
       "      <td>Adharma Kadhaigal</td>\n",
       "      <td>9.6</td>\n",
       "      <td>1094</td>\n",
       "    </tr>\n",
       "    <tr>\n",
       "      <th>6</th>\n",
       "      <td>Janaka Aithe Ganaka</td>\n",
       "      <td>9.5</td>\n",
       "      <td>2126</td>\n",
       "    </tr>\n",
       "    <tr>\n",
       "      <th>7</th>\n",
       "      <td>Rewind</td>\n",
       "      <td>9.5</td>\n",
       "      <td>2022</td>\n",
       "    </tr>\n",
       "    <tr>\n",
       "      <th>8</th>\n",
       "      <td>Ramnagar Bunny</td>\n",
       "      <td>9.5</td>\n",
       "      <td>2107</td>\n",
       "    </tr>\n",
       "    <tr>\n",
       "      <th>9</th>\n",
       "      <td>Janam</td>\n",
       "      <td>9.3</td>\n",
       "      <td>2030</td>\n",
       "    </tr>\n",
       "  </tbody>\n",
       "</table>\n",
       "</div>"
      ],
      "text/plain": [
       "             primaryTitle  averageRating  numVotes\n",
       "0                  Kaveri           10.0      1033\n",
       "1                    C202            9.9      2022\n",
       "2                  Laggam            9.7      3548\n",
       "3        Operation Raavan            9.7      1065\n",
       "4  Narudi Brathuku Natana            9.7      1913\n",
       "5       Adharma Kadhaigal            9.6      1094\n",
       "6     Janaka Aithe Ganaka            9.5      2126\n",
       "7                  Rewind            9.5      2022\n",
       "8          Ramnagar Bunny            9.5      2107\n",
       "9                   Janam            9.3      2030"
      ]
     },
     "execution_count": 23,
     "metadata": {},
     "output_type": "execute_result"
    }
   ],
   "source": [
    "%%bigquery\n",
    "SELECT tb.primaryTitle, tr.averageRating, tr.numVotes\n",
    "FROM `fall24-ba775-b07.data.imdb_title_basics` AS tb\n",
    "JOIN `fall24-ba775-b07.data.imdb_title_ratings` AS tr\n",
    "ON tb.tconst = tr.tconst\n",
    "WHERE tb.titleType = 'movie' AND tr.numVotes > 1029\n",
    "ORDER BY tr.averageRating DESC\n",
    "LIMIT 10;\n"
   ]
  },
  {
   "cell_type": "markdown",
   "id": "ca02446c-b7a5-4fd1-a443-57d0be4095f4",
   "metadata": {
    "tags": []
   },
   "source": [
    "Now lets explore the number of titles released each year."
   ]
  },
  {
   "cell_type": "code",
   "execution_count": 18,
   "id": "fd96bf5c-e107-4298-a99a-feeb05bcac80",
   "metadata": {
    "tags": []
   },
   "outputs": [
    {
     "data": {
      "application/vnd.jupyter.widget-view+json": {
       "model_id": "598d8bc2b88442bfb6aff0441d88bbbc",
       "version_major": 2,
       "version_minor": 0
      },
      "text/plain": [
       "Query is running:   0%|          |"
      ]
     },
     "metadata": {},
     "output_type": "display_data"
    },
    {
     "data": {
      "application/vnd.jupyter.widget-view+json": {
       "model_id": "5bee804f7ad74c2db4c34737927e3983",
       "version_major": 2,
       "version_minor": 0
      },
      "text/plain": [
       "Downloading:   0%|          |"
      ]
     },
     "metadata": {},
     "output_type": "display_data"
    },
    {
     "data": {
      "text/html": [
       "<div>\n",
       "<style scoped>\n",
       "    .dataframe tbody tr th:only-of-type {\n",
       "        vertical-align: middle;\n",
       "    }\n",
       "\n",
       "    .dataframe tbody tr th {\n",
       "        vertical-align: top;\n",
       "    }\n",
       "\n",
       "    .dataframe thead th {\n",
       "        text-align: right;\n",
       "    }\n",
       "</style>\n",
       "<table border=\"1\" class=\"dataframe\">\n",
       "  <thead>\n",
       "    <tr style=\"text-align: right;\">\n",
       "      <th></th>\n",
       "      <th>release_year</th>\n",
       "      <th>movies_count</th>\n",
       "    </tr>\n",
       "  </thead>\n",
       "  <tbody>\n",
       "    <tr>\n",
       "      <th>0</th>\n",
       "      <td>1874</td>\n",
       "      <td>1</td>\n",
       "    </tr>\n",
       "    <tr>\n",
       "      <th>1</th>\n",
       "      <td>1878</td>\n",
       "      <td>30</td>\n",
       "    </tr>\n",
       "  </tbody>\n",
       "</table>\n",
       "</div>"
      ],
      "text/plain": [
       "   release_year  movies_count\n",
       "0          1874             1\n",
       "1          1878            30"
      ]
     },
     "execution_count": 18,
     "metadata": {},
     "output_type": "execute_result"
    }
   ],
   "source": [
    "%%bigquery\n",
    "SELECT \n",
    "    startYear AS release_year,\n",
    "    COUNT(*) AS movies_count\n",
    "FROM `fall24-ba775-b07.views.clean_imdb_title_basics`\n",
    "WHERE startYear < 2024\n",
    "GROUP BY release_year\n",
    "ORDER BY release_year\n",
    "LIMIT 2"
   ]
  },
  {
   "cell_type": "markdown",
   "id": "e19e52bf-d9d9-4362-87d3-8ea023bac47f",
   "metadata": {},
   "source": [
    "**What is the average ratings and number of movies released in the last 4 decades?**"
   ]
  },
  {
   "cell_type": "markdown",
   "id": "82a49df2-94ea-48b7-b2e2-e4c1b6e4c57c",
   "metadata": {},
   "source": [
    "We utilize the title basics and the title ratings tables for this analysis. We observe an overall increase in the average movie ratings over the years. Additionally, there is a steady rise in the number of movies produced, with a notable shift in the 2000s and 2010s when the number of movies doubled.\n",
    "\n",
    "The increase in both quantity and quality of movies showcases a highly competitive and evolving landscape. Stakeholders should focus on maintaining high standards to meet audience expectations while leveraging the expanding market to explore diverse genres and innovative storytelling approaches."
   ]
  },
  {
   "cell_type": "code",
   "execution_count": 21,
   "id": "41643beb-6671-4a34-a746-7d70e2628175",
   "metadata": {
    "tags": []
   },
   "outputs": [
    {
     "data": {
      "application/vnd.jupyter.widget-view+json": {
       "model_id": "dd663b70e43d4eb3bc7378f2de91c9ce",
       "version_major": 2,
       "version_minor": 0
      },
      "text/plain": [
       "Query is running:   0%|          |"
      ]
     },
     "metadata": {},
     "output_type": "display_data"
    },
    {
     "data": {
      "application/vnd.jupyter.widget-view+json": {
       "model_id": "8aa8dd2f360f40b69cfd825db4e10773",
       "version_major": 2,
       "version_minor": 0
      },
      "text/plain": [
       "Downloading:   0%|          |"
      ]
     },
     "metadata": {},
     "output_type": "display_data"
    },
    {
     "data": {
      "text/html": [
       "<div>\n",
       "<style scoped>\n",
       "    .dataframe tbody tr th:only-of-type {\n",
       "        vertical-align: middle;\n",
       "    }\n",
       "\n",
       "    .dataframe tbody tr th {\n",
       "        vertical-align: top;\n",
       "    }\n",
       "\n",
       "    .dataframe thead th {\n",
       "        text-align: right;\n",
       "    }\n",
       "</style>\n",
       "<table border=\"1\" class=\"dataframe\">\n",
       "  <thead>\n",
       "    <tr style=\"text-align: right;\">\n",
       "      <th></th>\n",
       "      <th>decade</th>\n",
       "      <th>avg_rating</th>\n",
       "      <th>number_of_movies</th>\n",
       "    </tr>\n",
       "  </thead>\n",
       "  <tbody>\n",
       "    <tr>\n",
       "      <th>0</th>\n",
       "      <td>2020.0</td>\n",
       "      <td>6.38</td>\n",
       "      <td>46328</td>\n",
       "    </tr>\n",
       "    <tr>\n",
       "      <th>1</th>\n",
       "      <td>2010.0</td>\n",
       "      <td>6.24</td>\n",
       "      <td>93055</td>\n",
       "    </tr>\n",
       "    <tr>\n",
       "      <th>2</th>\n",
       "      <td>2000.0</td>\n",
       "      <td>6.21</td>\n",
       "      <td>47642</td>\n",
       "    </tr>\n",
       "    <tr>\n",
       "      <th>3</th>\n",
       "      <td>1990.0</td>\n",
       "      <td>6.03</td>\n",
       "      <td>27263</td>\n",
       "    </tr>\n",
       "    <tr>\n",
       "      <th>4</th>\n",
       "      <td>1980.0</td>\n",
       "      <td>5.93</td>\n",
       "      <td>26196</td>\n",
       "    </tr>\n",
       "  </tbody>\n",
       "</table>\n",
       "</div>"
      ],
      "text/plain": [
       "   decade  avg_rating  number_of_movies\n",
       "0  2020.0        6.38             46328\n",
       "1  2010.0        6.24             93055\n",
       "2  2000.0        6.21             47642\n",
       "3  1990.0        6.03             27263\n",
       "4  1980.0        5.93             26196"
      ]
     },
     "execution_count": 21,
     "metadata": {},
     "output_type": "execute_result"
    }
   ],
   "source": [
    "%%bigquery\n",
    "SELECT FLOOR(CAST(tb.startYear AS INT64) / 10) * 10 AS decade, ROUND(AVG(tr.averageRating),2) AS avg_rating, COUNT(*) AS number_of_movies\n",
    "FROM `fall24-ba775-b07.views.imdb_title_basics` AS tb\n",
    "JOIN `fall24-ba775-b07.data.imdb_title_ratings` AS tr ON tb.tconst = tr.tconst\n",
    "WHERE tb.titleType = 'movie'\n",
    "GROUP BY Decade\n",
    "ORDER BY Decade DESC\n",
    "LIMIT 5"
   ]
  },
  {
   "cell_type": "code",
   "execution_count": 20,
   "id": "c2ac3c8a-be5d-4ee6-8a17-d674c1953b9b",
   "metadata": {
    "tags": []
   },
   "outputs": [
    {
     "data": {
      "application/vnd.jupyter.widget-view+json": {
       "model_id": "b212582631774c10b85720493bbc792d",
       "version_major": 2,
       "version_minor": 0
      },
      "text/plain": [
       "Query is running:   0%|          |"
      ]
     },
     "metadata": {},
     "output_type": "display_data"
    },
    {
     "data": {
      "application/vnd.jupyter.widget-view+json": {
       "model_id": "f536a3b8216d4780a52548153422a15d",
       "version_major": 2,
       "version_minor": 0
      },
      "text/plain": [
       "Downloading:   0%|          |"
      ]
     },
     "metadata": {},
     "output_type": "display_data"
    },
    {
     "data": {
      "text/html": [
       "<div>\n",
       "<style scoped>\n",
       "    .dataframe tbody tr th:only-of-type {\n",
       "        vertical-align: middle;\n",
       "    }\n",
       "\n",
       "    .dataframe tbody tr th {\n",
       "        vertical-align: top;\n",
       "    }\n",
       "\n",
       "    .dataframe thead th {\n",
       "        text-align: right;\n",
       "    }\n",
       "</style>\n",
       "<table border=\"1\" class=\"dataframe\">\n",
       "  <thead>\n",
       "    <tr style=\"text-align: right;\">\n",
       "      <th></th>\n",
       "      <th>avg_rating_1990s</th>\n",
       "      <th>avg_rating_2000s</th>\n",
       "      <th>avg_rating_2010s</th>\n",
       "      <th>avg_rating_2020s</th>\n",
       "    </tr>\n",
       "  </thead>\n",
       "  <tbody>\n",
       "    <tr>\n",
       "      <th>0</th>\n",
       "      <td>6.029736</td>\n",
       "      <td>6.205802</td>\n",
       "      <td>6.242533</td>\n",
       "      <td>6.379049</td>\n",
       "    </tr>\n",
       "  </tbody>\n",
       "</table>\n",
       "</div>"
      ],
      "text/plain": [
       "   avg_rating_1990s  avg_rating_2000s  avg_rating_2010s  avg_rating_2020s\n",
       "0          6.029736          6.205802          6.242533          6.379049"
      ]
     },
     "execution_count": 20,
     "metadata": {},
     "output_type": "execute_result"
    }
   ],
   "source": [
    "%%bigquery\n",
    "SELECT *\n",
    "FROM (\n",
    "    SELECT \n",
    "        decade, \n",
    "        AVG(averageRating) AS avg_rating\n",
    "    FROM `fall24-ba775-b07.views.movies_with_decade_rating`\n",
    "    GROUP BY decade\n",
    ")\n",
    "PIVOT (\n",
    "    AVG(avg_rating) FOR decade IN (1990 AS avg_rating_1990s, \n",
    "                                    2000 AS avg_rating_2000s, \n",
    "                                    2010 AS avg_rating_2010s, \n",
    "                                    2020 AS avg_rating_2020s)\n",
    ")\n",
    "ORDER BY avg_rating_1990s, avg_rating_2000s, avg_rating_2010s, avg_rating_2020s;\n"
   ]
  },
  {
   "cell_type": "markdown",
   "id": "d5d6c2c0-bef3-4891-828f-2256d7e6ffda",
   "metadata": {},
   "source": [
    "**What is the Average Runtime of Movies?**\n",
    "\n",
    "The analysis of movie durations reveals that the majority of films fall within the normal runtime range, which accounts for nearly three times the number of long movies. This distribution aligns with audience expectations for standard film lengths.\n",
    "\n",
    "Focusing on producing films within the normal runtime range can cater to mainstream audience preferences. However, exploring long-format movies in niche genres or platforms may provide opportunities for differentiation and engagement with specific viewer segments."
   ]
  },
  {
   "cell_type": "code",
   "execution_count": 27,
   "id": "3126fa3e-d85f-4960-9ddd-fd899fa51f33",
   "metadata": {
    "tags": []
   },
   "outputs": [
    {
     "data": {
      "application/vnd.jupyter.widget-view+json": {
       "model_id": "8531f969427f48049c5dc47456e95d86",
       "version_major": 2,
       "version_minor": 0
      },
      "text/plain": [
       "Query is running:   0%|          |"
      ]
     },
     "metadata": {},
     "output_type": "display_data"
    },
    {
     "data": {
      "application/vnd.jupyter.widget-view+json": {
       "model_id": "496a5b9bc6b943368ef59fbf2e3bb719",
       "version_major": 2,
       "version_minor": 0
      },
      "text/plain": [
       "Downloading:   0%|          |"
      ]
     },
     "metadata": {},
     "output_type": "display_data"
    },
    {
     "data": {
      "text/html": [
       "<div>\n",
       "<style scoped>\n",
       "    .dataframe tbody tr th:only-of-type {\n",
       "        vertical-align: middle;\n",
       "    }\n",
       "\n",
       "    .dataframe tbody tr th {\n",
       "        vertical-align: top;\n",
       "    }\n",
       "\n",
       "    .dataframe thead th {\n",
       "        text-align: right;\n",
       "    }\n",
       "</style>\n",
       "<table border=\"1\" class=\"dataframe\">\n",
       "  <thead>\n",
       "    <tr style=\"text-align: right;\">\n",
       "      <th></th>\n",
       "      <th>runtime_range</th>\n",
       "      <th>movie_count</th>\n",
       "    </tr>\n",
       "  </thead>\n",
       "  <tbody>\n",
       "    <tr>\n",
       "      <th>0</th>\n",
       "      <td>Normal (1.5 - 2 hours)</td>\n",
       "      <td>3023</td>\n",
       "    </tr>\n",
       "    <tr>\n",
       "      <th>1</th>\n",
       "      <td>Long (&gt; 2 hours)</td>\n",
       "      <td>1073</td>\n",
       "    </tr>\n",
       "    <tr>\n",
       "      <th>2</th>\n",
       "      <td>Short (1 - 1.5 hours)</td>\n",
       "      <td>662</td>\n",
       "    </tr>\n",
       "    <tr>\n",
       "      <th>3</th>\n",
       "      <td>Very Short (&lt; 1 hour)</td>\n",
       "      <td>43</td>\n",
       "    </tr>\n",
       "  </tbody>\n",
       "</table>\n",
       "</div>"
      ],
      "text/plain": [
       "            runtime_range  movie_count\n",
       "0  Normal (1.5 - 2 hours)         3023\n",
       "1        Long (> 2 hours)         1073\n",
       "2   Short (1 - 1.5 hours)          662\n",
       "3   Very Short (< 1 hour)           43"
      ]
     },
     "execution_count": 27,
     "metadata": {},
     "output_type": "execute_result"
    }
   ],
   "source": [
    "%%bigquery\n",
    "SELECT \n",
    "    runtime_range,\n",
    "    COUNT(*) AS movie_count\n",
    "FROM \n",
    "    `fall24-ba775-b07.views.classified_movies_runtime`\n",
    "GROUP BY \n",
    "    runtime_range\n",
    "ORDER BY \n",
    "    movie_count DESC;"
   ]
  },
  {
   "cell_type": "markdown",
   "id": "316358da-739d-4edd-ad20-d71e2455fbc1",
   "metadata": {},
   "source": [
    "**Which countries have the highest average movie runtime?**\n",
    "\n",
    "The results show the average runtime of movies produced in different countries, categorized as \"Long,\" \"Normal,\" or \"Short.\" Libya tops the list with the longest average runtime of 173 minutes, followed by Malta at 144 minutes and Kyrgyzstan at 135 minutes. On the other end, countries like Slovenia, Afghanistan, and Guadeloupe have shorter average runtimes, classified as \"Short.\" This analysis reveals significant differences in movie lengths across countries, with certain regions tending to produce films with notably longer or shorter durations."
   ]
  },
  {
   "cell_type": "code",
   "execution_count": 22,
   "id": "cd740ea8-4a0d-4b37-baac-2cf929d7fe3b",
   "metadata": {
    "tags": []
   },
   "outputs": [
    {
     "data": {
      "application/vnd.jupyter.widget-view+json": {
       "model_id": "de61eafd04d3449f8a33a43532964b87",
       "version_major": 2,
       "version_minor": 0
      },
      "text/plain": [
       "Query is running:   0%|          |"
      ]
     },
     "metadata": {},
     "output_type": "display_data"
    },
    {
     "data": {
      "application/vnd.jupyter.widget-view+json": {
       "model_id": "7f4518074ccb4d0d930e23e8249c63f0",
       "version_major": 2,
       "version_minor": 0
      },
      "text/plain": [
       "Downloading:   0%|          |"
      ]
     },
     "metadata": {},
     "output_type": "display_data"
    },
    {
     "data": {
      "text/html": [
       "<div>\n",
       "<style scoped>\n",
       "    .dataframe tbody tr th:only-of-type {\n",
       "        vertical-align: middle;\n",
       "    }\n",
       "\n",
       "    .dataframe tbody tr th {\n",
       "        vertical-align: top;\n",
       "    }\n",
       "\n",
       "    .dataframe thead th {\n",
       "        text-align: right;\n",
       "    }\n",
       "</style>\n",
       "<table border=\"1\" class=\"dataframe\">\n",
       "  <thead>\n",
       "    <tr style=\"text-align: right;\">\n",
       "      <th></th>\n",
       "      <th>country_name</th>\n",
       "      <th>avg_runtime</th>\n",
       "      <th>runtime_range</th>\n",
       "    </tr>\n",
       "  </thead>\n",
       "  <tbody>\n",
       "    <tr>\n",
       "      <th>0</th>\n",
       "      <td>United States of America</td>\n",
       "      <td>102.597512</td>\n",
       "      <td>Normal (1.5 - 2 hours)</td>\n",
       "    </tr>\n",
       "    <tr>\n",
       "      <th>1</th>\n",
       "      <td>Kyrgyz Republic</td>\n",
       "      <td>135.000000</td>\n",
       "      <td>Long (&gt; 2 hours)</td>\n",
       "    </tr>\n",
       "    <tr>\n",
       "      <th>2</th>\n",
       "      <td>Algeria</td>\n",
       "      <td>99.000000</td>\n",
       "      <td>Normal (1.5 - 2 hours)</td>\n",
       "    </tr>\n",
       "    <tr>\n",
       "      <th>3</th>\n",
       "      <td>Guadaloupe</td>\n",
       "      <td>78.000000</td>\n",
       "      <td>Short (1 - 1.5 hours)</td>\n",
       "    </tr>\n",
       "    <tr>\n",
       "      <th>4</th>\n",
       "      <td>Dominican Republic</td>\n",
       "      <td>101.000000</td>\n",
       "      <td>Normal (1.5 - 2 hours)</td>\n",
       "    </tr>\n",
       "  </tbody>\n",
       "</table>\n",
       "</div>"
      ],
      "text/plain": [
       "               country_name  avg_runtime           runtime_range\n",
       "0  United States of America   102.597512  Normal (1.5 - 2 hours)\n",
       "1           Kyrgyz Republic   135.000000        Long (> 2 hours)\n",
       "2                   Algeria    99.000000  Normal (1.5 - 2 hours)\n",
       "3                Guadaloupe    78.000000   Short (1 - 1.5 hours)\n",
       "4        Dominican Republic   101.000000  Normal (1.5 - 2 hours)"
      ]
     },
     "execution_count": 22,
     "metadata": {},
     "output_type": "execute_result"
    }
   ],
   "source": [
    "%%bigquery\n",
    "SELECT \n",
    "    JSON_EXTRACT_SCALAR(production_countries, '$[0].name') AS country_name, \n",
    "    AVG(runtime) AS avg_runtime,\n",
    "    runtime_range\n",
    "FROM \n",
    "    `fall24-ba775-b07.views.classified_movies_runtime`\n",
    "WHERE \n",
    "    production_countries IS NOT NULL\n",
    "GROUP BY \n",
    "    country_name, runtime_range\n",
    "LIMIT 5;\n"
   ]
  },
  {
   "cell_type": "markdown",
   "id": "a02121f8-cc3c-4c86-b3a6-69663c431042",
   "metadata": {},
   "source": [
    "**What are the Top 10 most popular movies (by vote count) released in the 2000s**\n",
    "\n",
    "Leading the list is The Dark Knight (2008) with nearly 2.94 million votes, followed by Breaking Bad (2008), and the Lord of the Rings trilogy, with The Fellowship of the Ring (2001), The Return of the King (2003), and The Two Towers (2002) all securing high vote counts. Other popular titles from the decade include Gladiator (2000), Inglourious Basterds (2009), Batman Begins (2005), The Prestige (2006), and The Departed (2006). These results highlight the enduring popularity of epic adventures, crime dramas, and complex narratives from the 2000s among audiences.\n",
    "These results underscore the enduring popularity of epic adventures, crime dramas, and complex narratives, which continue to resonate with audiences. Stakeholders can capitalize on these genres by investing in high-quality, emotionally engaging, and narratively intricate films to attract broad and dedicated viewership."
   ]
  },
  {
   "cell_type": "code",
   "execution_count": 28,
   "id": "6d51b6a2-9f0e-4787-8075-e7d113f925fb",
   "metadata": {
    "tags": []
   },
   "outputs": [
    {
     "data": {
      "application/vnd.jupyter.widget-view+json": {
       "model_id": "24bac91f9581405797c9267280b7a8ed",
       "version_major": 2,
       "version_minor": 0
      },
      "text/plain": [
       "Query is running:   0%|          |"
      ]
     },
     "metadata": {},
     "output_type": "display_data"
    },
    {
     "data": {
      "application/vnd.jupyter.widget-view+json": {
       "model_id": "b2b42bba22504c138ac486cbf9b1bd8e",
       "version_major": 2,
       "version_minor": 0
      },
      "text/plain": [
       "Downloading:   0%|          |"
      ]
     },
     "metadata": {},
     "output_type": "display_data"
    },
    {
     "data": {
      "text/html": [
       "<div>\n",
       "<style scoped>\n",
       "    .dataframe tbody tr th:only-of-type {\n",
       "        vertical-align: middle;\n",
       "    }\n",
       "\n",
       "    .dataframe tbody tr th {\n",
       "        vertical-align: top;\n",
       "    }\n",
       "\n",
       "    .dataframe thead th {\n",
       "        text-align: right;\n",
       "    }\n",
       "</style>\n",
       "<table border=\"1\" class=\"dataframe\">\n",
       "  <thead>\n",
       "    <tr style=\"text-align: right;\">\n",
       "      <th></th>\n",
       "      <th>movie_title</th>\n",
       "      <th>release_year</th>\n",
       "      <th>vote_count</th>\n",
       "    </tr>\n",
       "  </thead>\n",
       "  <tbody>\n",
       "    <tr>\n",
       "      <th>0</th>\n",
       "      <td>The Dark Knight</td>\n",
       "      <td>2008</td>\n",
       "      <td>2939644</td>\n",
       "    </tr>\n",
       "    <tr>\n",
       "      <th>1</th>\n",
       "      <td>The Lord of the Rings: The Fellowship of the Ring</td>\n",
       "      <td>2001</td>\n",
       "      <td>2054876</td>\n",
       "    </tr>\n",
       "    <tr>\n",
       "      <th>2</th>\n",
       "      <td>The Lord of the Rings: The Return of the King</td>\n",
       "      <td>2003</td>\n",
       "      <td>2025045</td>\n",
       "    </tr>\n",
       "    <tr>\n",
       "      <th>3</th>\n",
       "      <td>The Lord of the Rings: The Two Towers</td>\n",
       "      <td>2002</td>\n",
       "      <td>1825670</td>\n",
       "    </tr>\n",
       "    <tr>\n",
       "      <th>4</th>\n",
       "      <td>Gladiator</td>\n",
       "      <td>2000</td>\n",
       "      <td>1668967</td>\n",
       "    </tr>\n",
       "    <tr>\n",
       "      <th>5</th>\n",
       "      <td>Inglourious Basterds</td>\n",
       "      <td>2009</td>\n",
       "      <td>1626167</td>\n",
       "    </tr>\n",
       "    <tr>\n",
       "      <th>6</th>\n",
       "      <td>Batman Begins</td>\n",
       "      <td>2005</td>\n",
       "      <td>1610495</td>\n",
       "    </tr>\n",
       "    <tr>\n",
       "      <th>7</th>\n",
       "      <td>The Prestige</td>\n",
       "      <td>2006</td>\n",
       "      <td>1473959</td>\n",
       "    </tr>\n",
       "    <tr>\n",
       "      <th>8</th>\n",
       "      <td>The Departed</td>\n",
       "      <td>2006</td>\n",
       "      <td>1450779</td>\n",
       "    </tr>\n",
       "    <tr>\n",
       "      <th>9</th>\n",
       "      <td>Avatar</td>\n",
       "      <td>2009</td>\n",
       "      <td>1407149</td>\n",
       "    </tr>\n",
       "  </tbody>\n",
       "</table>\n",
       "</div>"
      ],
      "text/plain": [
       "                                         movie_title  release_year  vote_count\n",
       "0                                    The Dark Knight          2008     2939644\n",
       "1  The Lord of the Rings: The Fellowship of the Ring          2001     2054876\n",
       "2      The Lord of the Rings: The Return of the King          2003     2025045\n",
       "3              The Lord of the Rings: The Two Towers          2002     1825670\n",
       "4                                          Gladiator          2000     1668967\n",
       "5                               Inglourious Basterds          2009     1626167\n",
       "6                                      Batman Begins          2005     1610495\n",
       "7                                       The Prestige          2006     1473959\n",
       "8                                       The Departed          2006     1450779\n",
       "9                                             Avatar          2009     1407149"
      ]
     },
     "execution_count": 28,
     "metadata": {},
     "output_type": "execute_result"
    }
   ],
   "source": [
    "%%bigquery\n",
    "SELECT \n",
    "    movie_title,\n",
    "    release_year,\n",
    "    vote_count\n",
    "FROM \n",
    "    `fall24-ba775-b07.views.movies_from_2000s`\n",
    "ORDER BY \n",
    "    vote_count DESC\n",
    "LIMIT 10;\n",
    "\n"
   ]
  },
  {
   "cell_type": "markdown",
   "id": "e884ff38-3619-457d-8d98-cb2e3446f4f9",
   "metadata": {},
   "source": [
    "**What are the top 3 highest-rated movies in  Action, Adventure, Comedy, Crime, and Drama genres?**\n",
    "\n",
    "The chart shows a range of top-rated films across genres. In Action, \"Kaveri\" stands out with a perfect rating of 10.0, though with fewer votes (1,033). In Adventure, \"Gandhada Gudi\" has 2950 votes and a rating of 8.9. Comedy features classics like \"Ramnagar Bunny,\" rated 9.5 with over 2107 votes. These insights suggest opportunities for stakeholders to leverage niche, high-rated films for critical acclaim and to prioritize broader-reaching titles in genres like Adventure and Comedy to maximize audience engagement and commercial success."
   ]
  },
  {
   "cell_type": "code",
   "execution_count": 16,
   "id": "cb6b40f1-44b3-4b62-92e2-03fa168d2b17",
   "metadata": {
    "tags": []
   },
   "outputs": [
    {
     "data": {
      "application/vnd.jupyter.widget-view+json": {
       "model_id": "5519ab6b24044dceb539397d25aa63fa",
       "version_major": 2,
       "version_minor": 0
      },
      "text/plain": [
       "Query is running:   0%|          |"
      ]
     },
     "metadata": {},
     "output_type": "display_data"
    },
    {
     "data": {
      "application/vnd.jupyter.widget-view+json": {
       "model_id": "26647330b82c4f58ad564382763121e7",
       "version_major": 2,
       "version_minor": 0
      },
      "text/plain": [
       "Downloading:   0%|          |"
      ]
     },
     "metadata": {},
     "output_type": "display_data"
    },
    {
     "data": {
      "text/html": [
       "<div>\n",
       "<style scoped>\n",
       "    .dataframe tbody tr th:only-of-type {\n",
       "        vertical-align: middle;\n",
       "    }\n",
       "\n",
       "    .dataframe tbody tr th {\n",
       "        vertical-align: top;\n",
       "    }\n",
       "\n",
       "    .dataframe thead th {\n",
       "        text-align: right;\n",
       "    }\n",
       "</style>\n",
       "<table border=\"1\" class=\"dataframe\">\n",
       "  <thead>\n",
       "    <tr style=\"text-align: right;\">\n",
       "      <th></th>\n",
       "      <th>genre</th>\n",
       "      <th>movie_title</th>\n",
       "      <th>rating</th>\n",
       "      <th>numVotes</th>\n",
       "    </tr>\n",
       "  </thead>\n",
       "  <tbody>\n",
       "    <tr>\n",
       "      <th>0</th>\n",
       "      <td>Action</td>\n",
       "      <td>Kaveri</td>\n",
       "      <td>10.0</td>\n",
       "      <td>1033</td>\n",
       "    </tr>\n",
       "    <tr>\n",
       "      <th>1</th>\n",
       "      <td>Action</td>\n",
       "      <td>Fighting the Fire</td>\n",
       "      <td>9.3</td>\n",
       "      <td>1646</td>\n",
       "    </tr>\n",
       "    <tr>\n",
       "      <th>2</th>\n",
       "      <td>Action</td>\n",
       "      <td>Ramayana: The Legend of Prince Rama</td>\n",
       "      <td>9.2</td>\n",
       "      <td>15505</td>\n",
       "    </tr>\n",
       "    <tr>\n",
       "      <th>3</th>\n",
       "      <td>Adventure</td>\n",
       "      <td>Gandhada Gudi</td>\n",
       "      <td>8.9</td>\n",
       "      <td>2950</td>\n",
       "    </tr>\n",
       "    <tr>\n",
       "      <th>4</th>\n",
       "      <td>Adventure</td>\n",
       "      <td>Dipu Number 2</td>\n",
       "      <td>8.9</td>\n",
       "      <td>2629</td>\n",
       "    </tr>\n",
       "    <tr>\n",
       "      <th>5</th>\n",
       "      <td>Adventure</td>\n",
       "      <td>The Good, the Bad and the Ugly</td>\n",
       "      <td>8.8</td>\n",
       "      <td>828899</td>\n",
       "    </tr>\n",
       "    <tr>\n",
       "      <th>6</th>\n",
       "      <td>Comedy</td>\n",
       "      <td>Ramnagar Bunny</td>\n",
       "      <td>9.5</td>\n",
       "      <td>2107</td>\n",
       "    </tr>\n",
       "    <tr>\n",
       "      <th>7</th>\n",
       "      <td>Comedy</td>\n",
       "      <td>The Chaos Class</td>\n",
       "      <td>9.2</td>\n",
       "      <td>43648</td>\n",
       "    </tr>\n",
       "    <tr>\n",
       "      <th>8</th>\n",
       "      <td>Comedy</td>\n",
       "      <td>Daaru Na Peenda Hove</td>\n",
       "      <td>9.2</td>\n",
       "      <td>2291</td>\n",
       "    </tr>\n",
       "    <tr>\n",
       "      <th>9</th>\n",
       "      <td>Crime</td>\n",
       "      <td>Operation Raavan</td>\n",
       "      <td>9.7</td>\n",
       "      <td>1065</td>\n",
       "    </tr>\n",
       "    <tr>\n",
       "      <th>10</th>\n",
       "      <td>Crime</td>\n",
       "      <td>The Godfather</td>\n",
       "      <td>9.2</td>\n",
       "      <td>2062180</td>\n",
       "    </tr>\n",
       "    <tr>\n",
       "      <th>11</th>\n",
       "      <td>Crime</td>\n",
       "      <td>Dhakshina</td>\n",
       "      <td>9.2</td>\n",
       "      <td>3038</td>\n",
       "    </tr>\n",
       "    <tr>\n",
       "      <th>12</th>\n",
       "      <td>Drama</td>\n",
       "      <td>Narudi Brathuku Natana</td>\n",
       "      <td>9.7</td>\n",
       "      <td>1913</td>\n",
       "    </tr>\n",
       "    <tr>\n",
       "      <th>13</th>\n",
       "      <td>Drama</td>\n",
       "      <td>Janaka Aithe Ganaka</td>\n",
       "      <td>9.5</td>\n",
       "      <td>2126</td>\n",
       "    </tr>\n",
       "    <tr>\n",
       "      <th>14</th>\n",
       "      <td>Drama</td>\n",
       "      <td>Rewind</td>\n",
       "      <td>9.5</td>\n",
       "      <td>2022</td>\n",
       "    </tr>\n",
       "  </tbody>\n",
       "</table>\n",
       "</div>"
      ],
      "text/plain": [
       "        genre                          movie_title  rating  numVotes\n",
       "0      Action                               Kaveri    10.0      1033\n",
       "1      Action                    Fighting the Fire     9.3      1646\n",
       "2      Action  Ramayana: The Legend of Prince Rama     9.2     15505\n",
       "3   Adventure                        Gandhada Gudi     8.9      2950\n",
       "4   Adventure                        Dipu Number 2     8.9      2629\n",
       "5   Adventure       The Good, the Bad and the Ugly     8.8    828899\n",
       "6      Comedy                       Ramnagar Bunny     9.5      2107\n",
       "7      Comedy                      The Chaos Class     9.2     43648\n",
       "8      Comedy                 Daaru Na Peenda Hove     9.2      2291\n",
       "9       Crime                     Operation Raavan     9.7      1065\n",
       "10      Crime                        The Godfather     9.2   2062180\n",
       "11      Crime                            Dhakshina     9.2      3038\n",
       "12      Drama               Narudi Brathuku Natana     9.7      1913\n",
       "13      Drama                  Janaka Aithe Ganaka     9.5      2126\n",
       "14      Drama                               Rewind     9.5      2022"
      ]
     },
     "execution_count": 16,
     "metadata": {},
     "output_type": "execute_result"
    }
   ],
   "source": [
    "%%bigquery\n",
    "WITH GenreMovies AS (\n",
    "    SELECT \n",
    "        DISTINCT basics_table.primaryTitle AS movie_title, \n",
    "        basics_table.genres, \n",
    "        ratings_table.averageRating AS rating, \n",
    "        ratings_table.numVotes, \n",
    "        basics_table.tconst\n",
    "    FROM `fall24-ba775-b07.data.imdb_title_ratings` AS ratings_table\n",
    "    JOIN `fall24-ba775-b07.data.imdb_title_basics` AS basics_table \n",
    "    ON ratings_table.tconst = basics_table.tconst\n",
    "    WHERE ratings_table.numVotes > 1029 AND basics_table.genres IS NOT NULL and titleType = 'movie'),\n",
    "    \n",
    "ExplodedGenres AS (\n",
    "    SELECT \n",
    "        tconst, \n",
    "        movie_title, \n",
    "        rating, \n",
    "        numVotes, \n",
    "        TRIM(SPLIT(genres, ',')[OFFSET(0)]) AS genre FROM GenreMovies),\n",
    "    \n",
    "RankedMovies AS (\n",
    "    SELECT \n",
    "        genre, \n",
    "        movie_title, \n",
    "        rating, \n",
    "        numVotes, \n",
    "        ROW_NUMBER() OVER (PARTITION BY genre ORDER BY rating DESC, numVotes DESC) AS rank \n",
    "    FROM ExplodedGenres WHERE genre IN ('Drama', 'Comedy', 'Action', 'Adventure', 'Crime'))\n",
    "\n",
    "SELECT genre, movie_title, rating, numVotes FROM RankedMovies WHERE rank <= 3 ORDER BY genre, rating DESC\n"
   ]
  },
  {
   "cell_type": "markdown",
   "id": "a4c33249-3104-4c1f-95b5-e30ba1149022",
   "metadata": {},
   "source": [
    "**Summary:** The analysis highlights a steady increase in movie ratings over the years, with a notable doubling in movie production since the 2000s. Leading the popularity rankings are iconic films such as The Dark Knight (2008), Breaking Bad (2008), and the Lord of the Rings trilogy, which demonstrate the enduring appeal of epic adventures, crime dramas, and complex narratives. The analysis also shows that Action, Adventure, and Comedy genres dominate the ratings, reflecting a strong audience preference for these categories. Additionally, while Portuguese and Hebrew movies are relatively few in number, they achieve the highest ratings, signaling potential for niche markets. Interestingly, Telugu films outperform Hollywood in this dataset, suggesting an opportunity for stakeholders to invest in regional content and diversify their film portfolios. These insights point to the importance of focusing on high-quality, genre-diverse films, while also exploring regional cinema to meet evolving audience tastes."
   ]
  },
  {
   "cell_type": "markdown",
   "id": "8c105b9f-be97-45c4-9853-cfb5984a1f30",
   "metadata": {
    "tags": []
   },
   "source": [
    "## Revenue Generation - Movies\n"
   ]
  },
  {
   "cell_type": "markdown",
   "id": "297b66be-e821-4fa9-80ac-bab8484c7c34",
   "metadata": {},
   "source": [
    "**What is the categorization of the movies according to the revenue?**\n",
    "\n",
    "Movies are categorized based on their revenue, using the 75th percentile for high revenue, the median for medium revenue, and the 25th percentile for low revenue. The results show that the highest number of movies fall into the medium revenue category, followed by low revenue and high revenue movies, as expected.\n",
    "\n",
    "This distribution suggests that the majority of movies generate moderate returns, with fewer achieving high revenue. Stakeholders can use this insight to identify opportunities in the mid-tier revenue space, focusing on scaling successful medium-revenue movies or finding ways to boost low-revenue films into more profitable segments. Additionally, a small but consistent number of high-revenue films indicate the importance of aiming for blockbuster potential, although these are less common.\n"
   ]
  },
  {
   "cell_type": "code",
   "execution_count": 26,
   "id": "f1d39ed0-e400-4f22-9016-99793c51490d",
   "metadata": {
    "tags": []
   },
   "outputs": [
    {
     "data": {
      "application/vnd.jupyter.widget-view+json": {
       "model_id": "0a518c5971834423b0f795cb2688dc9e",
       "version_major": 2,
       "version_minor": 0
      },
      "text/plain": [
       "Query is running:   0%|          |"
      ]
     },
     "metadata": {},
     "output_type": "display_data"
    },
    {
     "data": {
      "application/vnd.jupyter.widget-view+json": {
       "model_id": "ad2afaa03f3145f0be4972953e710548",
       "version_major": 2,
       "version_minor": 0
      },
      "text/plain": [
       "Downloading:   0%|          |"
      ]
     },
     "metadata": {},
     "output_type": "display_data"
    },
    {
     "data": {
      "text/html": [
       "<div>\n",
       "<style scoped>\n",
       "    .dataframe tbody tr th:only-of-type {\n",
       "        vertical-align: middle;\n",
       "    }\n",
       "\n",
       "    .dataframe tbody tr th {\n",
       "        vertical-align: top;\n",
       "    }\n",
       "\n",
       "    .dataframe thead th {\n",
       "        text-align: right;\n",
       "    }\n",
       "</style>\n",
       "<table border=\"1\" class=\"dataframe\">\n",
       "  <thead>\n",
       "    <tr style=\"text-align: right;\">\n",
       "      <th></th>\n",
       "      <th>revenue_range</th>\n",
       "      <th>movie_count</th>\n",
       "    </tr>\n",
       "  </thead>\n",
       "  <tbody>\n",
       "    <tr>\n",
       "      <th>0</th>\n",
       "      <td>Medium Revenue</td>\n",
       "      <td>1688</td>\n",
       "    </tr>\n",
       "    <tr>\n",
       "      <th>1</th>\n",
       "      <td>Low Revenue</td>\n",
       "      <td>2271</td>\n",
       "    </tr>\n",
       "    <tr>\n",
       "      <th>2</th>\n",
       "      <td>High Revenue</td>\n",
       "      <td>844</td>\n",
       "    </tr>\n",
       "  </tbody>\n",
       "</table>\n",
       "</div>"
      ],
      "text/plain": [
       "    revenue_range  movie_count\n",
       "0  Medium Revenue         1688\n",
       "1     Low Revenue         2271\n",
       "2    High Revenue          844"
      ]
     },
     "execution_count": 26,
     "metadata": {},
     "output_type": "execute_result"
    }
   ],
   "source": [
    "%%bigquery\n",
    "SELECT \n",
    "    revenue_range,\n",
    "    COUNT(*) AS movie_count\n",
    "FROM \n",
    "    `fall24-ba775-b07.views.classified_movies_revenue`\n",
    "GROUP BY \n",
    "    revenue_range\n",
    "ORDER BY \n",
    "    revenue_range DESC;\n"
   ]
  },
  {
   "cell_type": "markdown",
   "id": "56540709-4b6c-4583-aeea-653ad88c797a",
   "metadata": {},
   "source": [
    "**What are the  highest revenue generating movie for each country (TOP 10)?**"
   ]
  },
  {
   "cell_type": "markdown",
   "id": "29f95c0b-3191-4269-94c0-45d7397a996e",
   "metadata": {},
   "source": [
    "The analysis reveals that Avatar generated huge revenue in both the US and UK, solidifying its status as a global blockbuster. However, an interesting observation is that Pirates of the Caribbean was the highest revenue-generating movie in the Caribbean countries of Jamaica, Bahamas, and Dominica, highlighting regional preferences for certain genres or franchises.\n",
    "\n",
    "This underscores the importance of understanding regional market preferences when planning movie releases and marketing strategies. Stakeholders can leverage these insights to target specific regions with tailored promotional campaigns and explore content that resonates strongly within those markets. Regional blockbusters like Pirates of the Caribbean show that local cultural connections can drive significant box office performance.\n",
    "\n",
    "\n",
    "\n",
    "\n",
    "\n",
    "\n"
   ]
  },
  {
   "cell_type": "code",
   "execution_count": 63,
   "id": "90b41e39-3f5d-4c78-a63d-69724638e6da",
   "metadata": {
    "tags": []
   },
   "outputs": [
    {
     "data": {
      "application/vnd.jupyter.widget-view+json": {
       "model_id": "289bca5d09994640ab73c530620535c2",
       "version_major": 2,
       "version_minor": 0
      },
      "text/plain": [
       "Query is running:   0%|          |"
      ]
     },
     "metadata": {},
     "output_type": "display_data"
    },
    {
     "data": {
      "application/vnd.jupyter.widget-view+json": {
       "model_id": "a7c2bfa72b004340b1f58ad51b2c5c9b",
       "version_major": 2,
       "version_minor": 0
      },
      "text/plain": [
       "Downloading:   0%|          |"
      ]
     },
     "metadata": {},
     "output_type": "display_data"
    },
    {
     "data": {
      "text/html": [
       "<div>\n",
       "<style scoped>\n",
       "    .dataframe tbody tr th:only-of-type {\n",
       "        vertical-align: middle;\n",
       "    }\n",
       "\n",
       "    .dataframe tbody tr th {\n",
       "        vertical-align: top;\n",
       "    }\n",
       "\n",
       "    .dataframe thead th {\n",
       "        text-align: right;\n",
       "    }\n",
       "</style>\n",
       "<table border=\"1\" class=\"dataframe\">\n",
       "  <thead>\n",
       "    <tr style=\"text-align: right;\">\n",
       "      <th></th>\n",
       "      <th>country</th>\n",
       "      <th>title</th>\n",
       "      <th>revenue</th>\n",
       "    </tr>\n",
       "  </thead>\n",
       "  <tbody>\n",
       "    <tr>\n",
       "      <th>0</th>\n",
       "      <td>United States of America</td>\n",
       "      <td>Avatar</td>\n",
       "      <td>2787965087</td>\n",
       "    </tr>\n",
       "    <tr>\n",
       "      <th>1</th>\n",
       "      <td>United Kingdom</td>\n",
       "      <td>Avatar</td>\n",
       "      <td>2787965087</td>\n",
       "    </tr>\n",
       "    <tr>\n",
       "      <th>2</th>\n",
       "      <td>Japan</td>\n",
       "      <td>Furious 7</td>\n",
       "      <td>1506249360</td>\n",
       "    </tr>\n",
       "    <tr>\n",
       "      <th>3</th>\n",
       "      <td>China</td>\n",
       "      <td>Iron Man 3</td>\n",
       "      <td>1215439994</td>\n",
       "    </tr>\n",
       "    <tr>\n",
       "      <th>4</th>\n",
       "      <td>New Zealand</td>\n",
       "      <td>The Lord of the Rings: The Return of the King</td>\n",
       "      <td>1118888979</td>\n",
       "    </tr>\n",
       "    <tr>\n",
       "      <th>5</th>\n",
       "      <td>Bahamas</td>\n",
       "      <td>Pirates of the Caribbean: Dead Man's Chest</td>\n",
       "      <td>1065659812</td>\n",
       "    </tr>\n",
       "    <tr>\n",
       "      <th>6</th>\n",
       "      <td>Jamaica</td>\n",
       "      <td>Pirates of the Caribbean: Dead Man's Chest</td>\n",
       "      <td>1065659812</td>\n",
       "    </tr>\n",
       "    <tr>\n",
       "      <th>7</th>\n",
       "      <td>Dominica</td>\n",
       "      <td>Pirates of the Caribbean: Dead Man's Chest</td>\n",
       "      <td>1065659812</td>\n",
       "    </tr>\n",
       "    <tr>\n",
       "      <th>8</th>\n",
       "      <td>Germany</td>\n",
       "      <td>Harry Potter and the Chamber of Secrets</td>\n",
       "      <td>876688482</td>\n",
       "    </tr>\n",
       "    <tr>\n",
       "      <th>9</th>\n",
       "      <td>Canada</td>\n",
       "      <td>2012</td>\n",
       "      <td>769653595</td>\n",
       "    </tr>\n",
       "  </tbody>\n",
       "</table>\n",
       "</div>"
      ],
      "text/plain": [
       "                    country                                          title  \\\n",
       "0  United States of America                                         Avatar   \n",
       "1            United Kingdom                                         Avatar   \n",
       "2                     Japan                                      Furious 7   \n",
       "3                     China                                     Iron Man 3   \n",
       "4               New Zealand  The Lord of the Rings: The Return of the King   \n",
       "5                   Bahamas     Pirates of the Caribbean: Dead Man's Chest   \n",
       "6                   Jamaica     Pirates of the Caribbean: Dead Man's Chest   \n",
       "7                  Dominica     Pirates of the Caribbean: Dead Man's Chest   \n",
       "8                   Germany        Harry Potter and the Chamber of Secrets   \n",
       "9                    Canada                                           2012   \n",
       "\n",
       "      revenue  \n",
       "0  2787965087  \n",
       "1  2787965087  \n",
       "2  1506249360  \n",
       "3  1215439994  \n",
       "4  1118888979  \n",
       "5  1065659812  \n",
       "6  1065659812  \n",
       "7  1065659812  \n",
       "8   876688482  \n",
       "9   769653595  "
      ]
     },
     "execution_count": 63,
     "metadata": {},
     "output_type": "execute_result"
    }
   ],
   "source": [
    "%%bigquery\n",
    "\n",
    "WITH CountryRevenue AS (\n",
    "    SELECT\n",
    "        title,\n",
    "        revenue,\n",
    "        JSON_EXTRACT_SCALAR(country, \"$.name\") AS country\n",
    "    FROM fall24-ba775-b07.data.imdb_5000_movies,\n",
    "    UNNEST(JSON_EXTRACT_ARRAY(production_countries)) AS country\n",
    ")\n",
    "SELECT\n",
    "    country,\n",
    "    title,\n",
    "    revenue\n",
    "FROM (\n",
    "    SELECT\n",
    "        country,\n",
    "        title,\n",
    "        revenue,\n",
    "        ROW_NUMBER() OVER (PARTITION BY country ORDER BY revenue DESC) AS row_num\n",
    "    FROM CountryRevenue\n",
    ")\n",
    "WHERE row_num = 1\n",
    "ORDER BY revenue DESC\n",
    "LIMIT 10\n"
   ]
  },
  {
   "cell_type": "markdown",
   "id": "7dc1619e-bbbf-45f0-8281-183fd204b143",
   "metadata": {},
   "source": [
    "**What is the number of movies in each revenue slab?**\n",
    "\n",
    "In this analysis, movies are categorized into revenue slabs: less than 10M, 10-50M, 50-100M, and 100M and above. The results reveal that the largest number of films fall into the less than 10M revenue slab, followed by a good number of movies in the 100M and 10-50M slabs.\n",
    "\n",
    "This distribution highlights that while a significant portion of films earn relatively modest revenues, there is a notable segment of higher-revenue movies in the 100M and 10-50M range. Stakeholders can focus on scaling up mid-range revenue films through enhanced marketing or distribution strategies, while also continuing to identify opportunities to break into the high-revenue segment, where fewer but highly successful movies reside."
   ]
  },
  {
   "cell_type": "code",
   "execution_count": 102,
   "id": "5afa3b58-ef72-4e62-940c-8a93d4cfe3d1",
   "metadata": {
    "tags": []
   },
   "outputs": [
    {
     "data": {
      "application/vnd.jupyter.widget-view+json": {
       "model_id": "38419105a9f749c4bcfb9f1fe11998cd",
       "version_major": 2,
       "version_minor": 0
      },
      "text/plain": [
       "Query is running:   0%|          |"
      ]
     },
     "metadata": {},
     "output_type": "display_data"
    },
    {
     "data": {
      "application/vnd.jupyter.widget-view+json": {
       "model_id": "3010b6f4b54e40f1af43ec8a05b29702",
       "version_major": 2,
       "version_minor": 0
      },
      "text/plain": [
       "Downloading:   0%|          |"
      ]
     },
     "metadata": {},
     "output_type": "display_data"
    },
    {
     "data": {
      "text/html": [
       "<div>\n",
       "<style scoped>\n",
       "    .dataframe tbody tr th:only-of-type {\n",
       "        vertical-align: middle;\n",
       "    }\n",
       "\n",
       "    .dataframe tbody tr th {\n",
       "        vertical-align: top;\n",
       "    }\n",
       "\n",
       "    .dataframe thead th {\n",
       "        text-align: right;\n",
       "    }\n",
       "</style>\n",
       "<table border=\"1\" class=\"dataframe\">\n",
       "  <thead>\n",
       "    <tr style=\"text-align: right;\">\n",
       "      <th></th>\n",
       "      <th>revenue_range</th>\n",
       "      <th>movie_count</th>\n",
       "    </tr>\n",
       "  </thead>\n",
       "  <tbody>\n",
       "    <tr>\n",
       "      <th>0</th>\n",
       "      <td>0 - 10M</td>\n",
       "      <td>2063</td>\n",
       "    </tr>\n",
       "    <tr>\n",
       "      <th>1</th>\n",
       "      <td>10M - 50M</td>\n",
       "      <td>1022</td>\n",
       "    </tr>\n",
       "    <tr>\n",
       "      <th>2</th>\n",
       "      <td>50M - 100M</td>\n",
       "      <td>587</td>\n",
       "    </tr>\n",
       "    <tr>\n",
       "      <th>3</th>\n",
       "      <td>&gt;= 100M</td>\n",
       "      <td>1131</td>\n",
       "    </tr>\n",
       "  </tbody>\n",
       "</table>\n",
       "</div>"
      ],
      "text/plain": [
       "  revenue_range  movie_count\n",
       "0       0 - 10M         2063\n",
       "1     10M - 50M         1022\n",
       "2    50M - 100M          587\n",
       "3       >= 100M         1131"
      ]
     },
     "execution_count": 102,
     "metadata": {},
     "output_type": "execute_result"
    }
   ],
   "source": [
    "%%bigquery\n",
    "SELECT \n",
    "    CASE \n",
    "        WHEN revenue >= 100000000 THEN '>= 100M'\n",
    "        WHEN revenue BETWEEN 50000000 AND 99999999 THEN '50M - 100M'\n",
    "        WHEN revenue BETWEEN 10000000 AND 49999999 THEN '10M - 50M'\n",
    "        ELSE '0 - 10M'\n",
    "    END AS revenue_range,\n",
    "    COUNT(*) AS movie_count\n",
    "FROM \n",
    "    `fall24-ba775-b07.data.imdb_5000_movies`\n",
    "WHERE \n",
    "    revenue IS NOT NULL\n",
    "GROUP BY \n",
    "    revenue_range\n",
    "ORDER BY \n",
    "    revenue_range;\n"
   ]
  },
  {
   "cell_type": "markdown",
   "id": "4287a430-f1d2-438b-a0ac-4159e41a3d59",
   "metadata": {},
   "source": [
    "**Which are some of the highest money making production houses, according to revenue slabs?**"
   ]
  },
  {
   "cell_type": "markdown",
   "id": "1ee8287f-dd2c-4224-b4ea-df6a279cdf62",
   "metadata": {},
   "source": [
    "The top 5 production companies by average revenue are led by Patalex IV Productions Limited, with an impressive 895.92 million dollars per movie, followed by Marvel Studios at 730.18 million dollars. All the listed companies fall into the \"High Revenue\" category, each consistently generating over $100 million per movie on average.\n",
    "\n",
    "These insights emphasize the dominance of top-tier production companies in generating significant revenue per film. Stakeholders should consider the strategies and resources that these high-performing companies use to drive profitability, including investing in high-budget franchises and popular content, as well as leveraging established fanbases. Collaborations or acquisitions of successful companies could also be a potential strategy for expanding into the high-revenue segment."
   ]
  },
  {
   "cell_type": "code",
   "execution_count": 103,
   "id": "404bf18d-3e22-4d4b-947e-2028ac774635",
   "metadata": {
    "tags": []
   },
   "outputs": [
    {
     "data": {
      "application/vnd.jupyter.widget-view+json": {
       "model_id": "ff042a366705468a8c0f1f76cd453ce5",
       "version_major": 2,
       "version_minor": 0
      },
      "text/plain": [
       "Query is running:   0%|          |"
      ]
     },
     "metadata": {},
     "output_type": "display_data"
    },
    {
     "data": {
      "application/vnd.jupyter.widget-view+json": {
       "model_id": "ab8d9fb8f60345788687141a1811a9c5",
       "version_major": 2,
       "version_minor": 0
      },
      "text/plain": [
       "Downloading:   0%|          |"
      ]
     },
     "metadata": {},
     "output_type": "display_data"
    },
    {
     "data": {
      "text/html": [
       "<div>\n",
       "<style scoped>\n",
       "    .dataframe tbody tr th:only-of-type {\n",
       "        vertical-align: middle;\n",
       "    }\n",
       "\n",
       "    .dataframe tbody tr th {\n",
       "        vertical-align: top;\n",
       "    }\n",
       "\n",
       "    .dataframe thead th {\n",
       "        text-align: right;\n",
       "    }\n",
       "</style>\n",
       "<table border=\"1\" class=\"dataframe\">\n",
       "  <thead>\n",
       "    <tr style=\"text-align: right;\">\n",
       "      <th></th>\n",
       "      <th>main_production_company</th>\n",
       "      <th>avg_revenue_million</th>\n",
       "      <th>avg_revenue_range</th>\n",
       "      <th>revenue_category</th>\n",
       "    </tr>\n",
       "  </thead>\n",
       "  <tbody>\n",
       "    <tr>\n",
       "      <th>0</th>\n",
       "      <td>Patalex IV Productions Limited</td>\n",
       "      <td>895.92</td>\n",
       "      <td>&gt;= 100M</td>\n",
       "      <td>High Revenue</td>\n",
       "    </tr>\n",
       "    <tr>\n",
       "      <th>1</th>\n",
       "      <td>Marvel Studios</td>\n",
       "      <td>730.18</td>\n",
       "      <td>&gt;= 100M</td>\n",
       "      <td>High Revenue</td>\n",
       "    </tr>\n",
       "    <tr>\n",
       "      <th>2</th>\n",
       "      <td>1492 Pictures</td>\n",
       "      <td>704.39</td>\n",
       "      <td>&gt;= 100M</td>\n",
       "      <td>High Revenue</td>\n",
       "    </tr>\n",
       "    <tr>\n",
       "      <th>3</th>\n",
       "      <td>WingNut Films</td>\n",
       "      <td>670.95</td>\n",
       "      <td>&gt;= 100M</td>\n",
       "      <td>High Revenue</td>\n",
       "    </tr>\n",
       "    <tr>\n",
       "      <th>4</th>\n",
       "      <td>Pixar Animation Studios</td>\n",
       "      <td>636.59</td>\n",
       "      <td>&gt;= 100M</td>\n",
       "      <td>High Revenue</td>\n",
       "    </tr>\n",
       "  </tbody>\n",
       "</table>\n",
       "</div>"
      ],
      "text/plain": [
       "          main_production_company avg_revenue_million avg_revenue_range  \\\n",
       "0  Patalex IV Productions Limited              895.92           >= 100M   \n",
       "1                  Marvel Studios              730.18           >= 100M   \n",
       "2                   1492 Pictures              704.39           >= 100M   \n",
       "3                   WingNut Films              670.95           >= 100M   \n",
       "4         Pixar Animation Studios              636.59           >= 100M   \n",
       "\n",
       "  revenue_category  \n",
       "0     High Revenue  \n",
       "1     High Revenue  \n",
       "2     High Revenue  \n",
       "3     High Revenue  \n",
       "4     High Revenue  "
      ]
     },
     "execution_count": 103,
     "metadata": {},
     "output_type": "execute_result"
    }
   ],
   "source": [
    "%%bigquery\n",
    "SELECT \n",
    "    JSON_EXTRACT_SCALAR(production_companies, '$[0].name') AS main_production_company,\n",
    "    FORMAT(\"%.2f\", AVG(revenue) / 1000000) AS avg_revenue_million,\n",
    "    CASE\n",
    "        WHEN AVG(revenue) >= 100000000 THEN '>= 100M'\n",
    "        WHEN AVG(revenue) BETWEEN 50000000 AND 99999999 THEN '50M - 100M'\n",
    "        WHEN AVG(revenue) BETWEEN 10000000 AND 49999999 THEN '10M - 50M'\n",
    "        ELSE '0 - 10M'\n",
    "    END AS avg_revenue_range,\n",
    "    CASE\n",
    "        WHEN AVG(revenue) >= 100000000 THEN 'High Revenue'\n",
    "        WHEN AVG(revenue) >= 50000000 THEN 'Medium Revenue'\n",
    "        ELSE 'Low Revenue'\n",
    "    END AS revenue_category\n",
    "FROM `fall24-ba775-b07.data.imdb_5000_movies`\n",
    "WHERE \n",
    "    revenue IS NOT NULL\n",
    "GROUP BY \n",
    "    main_production_company\n",
    "ORDER BY \n",
    "    AVG(revenue) DESC\n",
    "LIMIT 5;"
   ]
  },
  {
   "cell_type": "markdown",
   "id": "572c3f19-4761-4d53-b426-1fb889244e38",
   "metadata": {},
   "source": [
    "**What are some of the most common release months for high grossing movies?**\n",
    "\n",
    "The analysis of the movie release months reveals that June is the most common month for high-grossing movie releases, followed by December. Specifically, 133 high-grossing movies were released in June, with 127 in December. Other popular months for releases include May (102 releases) and November (96 releases). In contrast, January has the fewest high-grossing releases, with only 17 movies.\n",
    "\n",
    "This pattern highlights that studios tend to release big-budget films during the summer months (such as June) and around the holiday season (December), likely to capitalize on increased audience availability and spending during these periods. Stakeholders should consider aligning their film release schedules with these high-demand months to maximize revenue and audience engagement."
   ]
  },
  {
   "cell_type": "code",
   "execution_count": 110,
   "id": "3d52bede-c425-4f14-acf5-5f9ac68b0a94",
   "metadata": {
    "tags": []
   },
   "outputs": [
    {
     "data": {
      "application/vnd.jupyter.widget-view+json": {
       "model_id": "7a1ceeeb8d5440389f0a0ce35f198a78",
       "version_major": 2,
       "version_minor": 0
      },
      "text/plain": [
       "Query is running:   0%|          |"
      ]
     },
     "metadata": {},
     "output_type": "display_data"
    },
    {
     "data": {
      "application/vnd.jupyter.widget-view+json": {
       "model_id": "68742f6536c849a08a4517d56b29917c",
       "version_major": 2,
       "version_minor": 0
      },
      "text/plain": [
       "Downloading:   0%|          |"
      ]
     },
     "metadata": {},
     "output_type": "display_data"
    },
    {
     "data": {
      "text/html": [
       "<div>\n",
       "<style scoped>\n",
       "    .dataframe tbody tr th:only-of-type {\n",
       "        vertical-align: middle;\n",
       "    }\n",
       "\n",
       "    .dataframe tbody tr th {\n",
       "        vertical-align: top;\n",
       "    }\n",
       "\n",
       "    .dataframe thead th {\n",
       "        text-align: right;\n",
       "    }\n",
       "</style>\n",
       "<table border=\"1\" class=\"dataframe\">\n",
       "  <thead>\n",
       "    <tr style=\"text-align: right;\">\n",
       "      <th></th>\n",
       "      <th>release_month_name</th>\n",
       "      <th>high_grossing_movie_count</th>\n",
       "    </tr>\n",
       "  </thead>\n",
       "  <tbody>\n",
       "    <tr>\n",
       "      <th>0</th>\n",
       "      <td>Jun</td>\n",
       "      <td>133</td>\n",
       "    </tr>\n",
       "    <tr>\n",
       "      <th>1</th>\n",
       "      <td>Dec</td>\n",
       "      <td>127</td>\n",
       "    </tr>\n",
       "    <tr>\n",
       "      <th>2</th>\n",
       "      <td>May</td>\n",
       "      <td>102</td>\n",
       "    </tr>\n",
       "    <tr>\n",
       "      <th>3</th>\n",
       "      <td>Nov</td>\n",
       "      <td>96</td>\n",
       "    </tr>\n",
       "    <tr>\n",
       "      <th>4</th>\n",
       "      <td>Jul</td>\n",
       "      <td>95</td>\n",
       "    </tr>\n",
       "    <tr>\n",
       "      <th>5</th>\n",
       "      <td>Mar</td>\n",
       "      <td>58</td>\n",
       "    </tr>\n",
       "    <tr>\n",
       "      <th>6</th>\n",
       "      <td>Oct</td>\n",
       "      <td>49</td>\n",
       "    </tr>\n",
       "    <tr>\n",
       "      <th>7</th>\n",
       "      <td>Aug</td>\n",
       "      <td>45</td>\n",
       "    </tr>\n",
       "    <tr>\n",
       "      <th>8</th>\n",
       "      <td>Sep</td>\n",
       "      <td>45</td>\n",
       "    </tr>\n",
       "    <tr>\n",
       "      <th>9</th>\n",
       "      <td>Feb</td>\n",
       "      <td>40</td>\n",
       "    </tr>\n",
       "    <tr>\n",
       "      <th>10</th>\n",
       "      <td>Apr</td>\n",
       "      <td>37</td>\n",
       "    </tr>\n",
       "    <tr>\n",
       "      <th>11</th>\n",
       "      <td>Jan</td>\n",
       "      <td>17</td>\n",
       "    </tr>\n",
       "  </tbody>\n",
       "</table>\n",
       "</div>"
      ],
      "text/plain": [
       "   release_month_name  high_grossing_movie_count\n",
       "0                 Jun                        133\n",
       "1                 Dec                        127\n",
       "2                 May                        102\n",
       "3                 Nov                         96\n",
       "4                 Jul                         95\n",
       "5                 Mar                         58\n",
       "6                 Oct                         49\n",
       "7                 Aug                         45\n",
       "8                 Sep                         45\n",
       "9                 Feb                         40\n",
       "10                Apr                         37\n",
       "11                Jan                         17"
      ]
     },
     "execution_count": 110,
     "metadata": {},
     "output_type": "execute_result"
    }
   ],
   "source": [
    "%%bigquery\n",
    "SELECT \n",
    "    FORMAT_DATE('%b', DATE(release_date)) AS release_month_name,\n",
    "    COUNT(*) AS high_grossing_movie_count\n",
    "FROM \n",
    "    `fall24-ba775-b07.data.imdb_5000_movies`\n",
    "WHERE revenue >= 140165095.5\n",
    "GROUP BY \n",
    "    release_month_name\n",
    "ORDER BY \n",
    "    high_grossing_movie_count DESC;"
   ]
  },
  {
   "cell_type": "markdown",
   "id": "08daf2c9-1021-483d-a965-a4e72228867f",
   "metadata": {},
   "source": [
    "**Summary:**\n",
    "The analysis of movie release months reveals a clear pattern in the distribution of high-grossing films. June emerges as the most popular month for movie releases, with 133 high-grossing films, followed by December with 127 releases. May and November also prove to be key months, with 102 and 96 releases, respectively. In contrast, January sees the fewest high-grossing films, with only 17 releases. This trend suggests that film studios strategically release big-budget movies during the summer months, like June, and around the holiday season in December, likely to capitalize on the increased audience availability and spending during these times. Stakeholders can use these insights to align movie releases with peak periods to maximize revenue and reach."
   ]
  },
  {
   "cell_type": "markdown",
   "id": "d313d507-3e31-41a2-9db7-39fb04d1fe46",
   "metadata": {},
   "source": [
    "# Conclusion\n",
    "\n",
    "**Insights:** This analysis reveals several key insights about audience preferences and genre success. Comedy, Drama, and Documentary are the most frequently produced genres, while Action, Adventure, and Animation stand out in terms of higher ratings, suggesting that these genres generate more engagement and satisfaction among viewers. Audience ratings predominantly fall within the range of 6.8–8.0, indicating that while most movies perform at a mid-to-high level of satisfaction, there is still room for improvement in overall content quality. Regarding release timing, June and December are the peak months for high-grossing movie releases, demonstrating that studios strategically launch big-budget films during the summer and holiday seasons to maximize reach and profitability.\n",
    "\n",
    "Additionally, Telugu films have emerged as a significant player in the global movie landscape, particularly in terms of high ratings, highlighting the influence of regional cinema. Iconic movies like The Shawshank Redemption and The Dark Knight continue to maintain global popularity, underscoring the enduring appeal of timeless and well-crafted films that resonate with audiences long after their release. These insights point to an evolving industry where genre, timing, and regional content play crucial roles in determining a film's success.\n",
    "\n",
    "**Recommendations:** Based on these insights, there are several recommendations for stakeholders in the movie industry. First, there should be a greater focus on producing content in high-performing genres such as Action, Adventure, and Animation, which consistently receive better ratings and drive viewer engagement. Leveraging popular themes, such as War and Western, while also tailoring content to regional preferences, could further enhance engagement and profitability. Additionally, ensuring that movies fall within the preferred runtime of 1.5–2 hours can help meet audience expectations and enhance satisfaction.\n",
    "\n",
    "For release timing, major films should be strategically scheduled for release in June and December to leverage peak viewing periods associated with the summer and holiday seasons. Moreover, movies should be tailored to meet regional preferences, particularly in markets like the Caribbean, where films such as Pirates of the Caribbean have shown significant success.\n",
    "\n",
    "Building a strong brand and cultivating audience loyalty, as seen with major production companies like Marvel Studios and Patalex IV Productions, should also be a priority for studios looking to ensure consistent high revenue generation. Finally, paying attention to the growing influence of regional films, especially those from markets like India, could provide an opportunity to expand global reach and tap into new and emerging audiences.\n",
    "\n",
    "**Future Steps:** Looking ahead, further exploration into the impact of streaming services on traditional movie revenue models is essential. As streaming platforms continue to reshape the entertainment industry, understanding their influence on audience behavior and revenue generation will be crucial for adapting to the changing landscape. In addition, more detailed analysis on the roles of star power, directorial influence, and budget in driving box office success can refine production strategies and ensure optimal returns on investment.\n",
    "\n",
    "Segmentation of movie genres and sub-genres can help identify niche markets and untapped opportunities, providing a more granular understanding of audience preferences. Assessing the role of regional variations in movie preferences could help studios refine their content to better cater to diverse global audiences. Additionally, exploring the relationship between budget size and box office success can offer valuable insights into how much should be invested in a movie to achieve a good return on investment. Finally, as the dynamics of audience behavior continue to evolve across different platforms, including TV, cinema, and streaming, it will be important to adapt production and distribution strategies to align with these shifts and maximize engagement and profitability."
   ]
  },
  {
   "cell_type": "markdown",
   "id": "43746742-f6ac-4858-bde6-f631e3a31799",
   "metadata": {},
   "source": [
    "# Challenges\n",
    "\n",
    "- Collaboration Limitation: The notebook used for the analysis allowed only one person to work on it at a time, which slowed down collaboration and progress, particularly when multiple team members needed to contribute or review work simultaneously.\n",
    "\n",
    "- Missing and Inconsistent Data: The dataset contained significant amounts of missing and inconsistent data, making it difficult to clean and preprocess. This required extensive effort and time to address, especially when trying to handle missing values or conflicting data entries in SQL.\n",
    "\n",
    "- Data Format Issues (JSON): The dataset was provided in JSON format, which made extraction and conversion to a more usable structure for analysis cumbersome. The process of extracting and organizing data from JSON was time-consuming and added complexity to the project.\n",
    "\n",
    "- Data Cleaning in SQL: Cleaning the data in SQL proved to be complex, as it involved handling missing, inconsistent, and sometimes contradictory data entries, which slowed down the analysis process and added to the overall workload.\n",
    "\n",
    "These challenges required strategic problem-solving and additional time for data cleaning and collaboration management.\n"
   ]
  },
  {
   "cell_type": "markdown",
   "id": "889d5901-d5bd-40d5-9176-5530c6d69899",
   "metadata": {},
   "source": [
    "# References\n",
    "\n"
   ]
  },
  {
   "cell_type": "markdown",
   "id": "d1dc8804-1eb7-49f5-b1ca-99f6be6cf2c8",
   "metadata": {},
   "source": [
    "- Internet Movie Database (IMDb). (n.d.). IMDb Datasets. Retrieved from https://datasets.imdbws.com/\n",
    "- Soomro, Z. H., & Musa, S. (2020). Movie Box Office Revenue Prediction. Mendeley Data. Version 2. Retrieved from https://data.mendeley.com/datasets/xv9wtc9gdk/2"
   ]
  },
  {
   "cell_type": "markdown",
   "id": "b11fbc13-8058-4d69-bb09-1dc42215d9a6",
   "metadata": {},
   "source": [
    "# Generative AI Disclosure\n",
    "In our project, our team used ChatGPT as a generative AI tool to support several aspects of our work. Specifically, we used ChatGPT for:\n",
    "- Coding Assistance: ChatGPT was used to help identify potential errors in code, suggest alternative coding approaches, and ensure the functionality of our queries and data manipulation.\n",
    "- Grammar Checks: ChatGPT was utilized to review and refine the language used in our project, ensuring that our explanations, summaries, and reports are clear, concise, and grammatically correct.\n",
    "\n",
    "\n",
    "\n"
   ]
  }
 ],
 "metadata": {
  "environment": {
   "kernel": "python3",
   "name": "common-cpu.m125",
   "type": "gcloud",
   "uri": "us-docker.pkg.dev/deeplearning-platform-release/gcr.io/base-cpu:m125"
  },
  "kernelspec": {
   "display_name": "Python 3 (Local)",
   "language": "python",
   "name": "python3"
  },
  "language_info": {
   "codemirror_mode": {
    "name": "ipython",
    "version": 3
   },
   "file_extension": ".py",
   "mimetype": "text/x-python",
   "name": "python",
   "nbconvert_exporter": "python",
   "pygments_lexer": "ipython3",
   "version": "3.10.15"
  }
 },
 "nbformat": 4,
 "nbformat_minor": 5
}
